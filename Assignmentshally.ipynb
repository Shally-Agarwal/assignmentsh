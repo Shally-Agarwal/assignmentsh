{
 "cells": [
  {
   "cell_type": "markdown",
   "metadata": {
    "id": "XyE-tkEXkDlD"
   },
   "source": [
    "#Importing Libraries"
   ]
  },
  {
   "cell_type": "code",
   "execution_count": 1,
   "metadata": {
    "id": "AAz9q5ozz6zd"
   },
   "outputs": [],
   "source": [
    "import pandas as pd\n",
    "import numpy as np\n",
    "from sklearn.compose import ColumnTransformer\n",
    "from sklearn.pipeline import Pipeline\n",
    "from sklearn.impute import SimpleImputer\n",
    "from sklearn.preprocessing import StandardScaler, OneHotEncoder, OrdinalEncoder\n",
    "from sklearn.model_selection import train_test_split\n",
    "from sklearn.metrics import  mean_absolute_error, mean_squared_error, accuracy_score\n",
    "from sklearn.neighbors import KNeighborsClassifier\n",
    "from sklearn.ensemble import RandomForestClassifier\n",
    "from sklearn.tree import DecisionTreeClassifier\n",
    "from sklearn.model_selection import GridSearchCV, RandomizedSearchCV\n",
    "import matplotlib.pyplot as plt\n",
    "import warnings\n",
    "\n",
    "# Suppress future warnings\n",
    "warnings.filterwarnings('ignore', category=FutureWarning)"
   ]
  },
  {
   "cell_type": "code",
   "execution_count": 2,
   "metadata": {
    "id": "UlvJV8vo-7Dr"
   },
   "outputs": [],
   "source": [
    "df_students = pd.read_csv(\"student-por.csv\")"
   ]
  },
  {
   "cell_type": "code",
   "execution_count": 3,
   "metadata": {
    "colab": {
     "base_uri": "https://localhost:8080/",
     "height": 235
    },
    "id": "MGsSTesAB-XO",
    "outputId": "5545d578-27c4-49a8-9149-ead5a019f325"
   },
   "outputs": [
    {
     "data": {
      "text/html": [
       "<div>\n",
       "<style scoped>\n",
       "    .dataframe tbody tr th:only-of-type {\n",
       "        vertical-align: middle;\n",
       "    }\n",
       "\n",
       "    .dataframe tbody tr th {\n",
       "        vertical-align: top;\n",
       "    }\n",
       "\n",
       "    .dataframe thead th {\n",
       "        text-align: right;\n",
       "    }\n",
       "</style>\n",
       "<table border=\"1\" class=\"dataframe\">\n",
       "  <thead>\n",
       "    <tr style=\"text-align: right;\">\n",
       "      <th></th>\n",
       "      <th>school</th>\n",
       "      <th>sex</th>\n",
       "      <th>age</th>\n",
       "      <th>address</th>\n",
       "      <th>famsize</th>\n",
       "      <th>Pstatus</th>\n",
       "      <th>Medu</th>\n",
       "      <th>Fedu</th>\n",
       "      <th>Mjob</th>\n",
       "      <th>Fjob</th>\n",
       "      <th>...</th>\n",
       "      <th>famrel</th>\n",
       "      <th>freetime</th>\n",
       "      <th>goout</th>\n",
       "      <th>Dalc</th>\n",
       "      <th>Walc</th>\n",
       "      <th>health</th>\n",
       "      <th>absences</th>\n",
       "      <th>G1</th>\n",
       "      <th>G2</th>\n",
       "      <th>G3</th>\n",
       "    </tr>\n",
       "  </thead>\n",
       "  <tbody>\n",
       "    <tr>\n",
       "      <th>0</th>\n",
       "      <td>GP</td>\n",
       "      <td>F</td>\n",
       "      <td>18</td>\n",
       "      <td>U</td>\n",
       "      <td>GT3</td>\n",
       "      <td>A</td>\n",
       "      <td>4</td>\n",
       "      <td>4</td>\n",
       "      <td>at_home</td>\n",
       "      <td>teacher</td>\n",
       "      <td>...</td>\n",
       "      <td>4</td>\n",
       "      <td>3</td>\n",
       "      <td>4</td>\n",
       "      <td>1</td>\n",
       "      <td>1</td>\n",
       "      <td>3</td>\n",
       "      <td>4</td>\n",
       "      <td>0</td>\n",
       "      <td>11</td>\n",
       "      <td>11</td>\n",
       "    </tr>\n",
       "    <tr>\n",
       "      <th>1</th>\n",
       "      <td>GP</td>\n",
       "      <td>F</td>\n",
       "      <td>17</td>\n",
       "      <td>U</td>\n",
       "      <td>GT3</td>\n",
       "      <td>T</td>\n",
       "      <td>1</td>\n",
       "      <td>1</td>\n",
       "      <td>at_home</td>\n",
       "      <td>other</td>\n",
       "      <td>...</td>\n",
       "      <td>5</td>\n",
       "      <td>3</td>\n",
       "      <td>3</td>\n",
       "      <td>1</td>\n",
       "      <td>1</td>\n",
       "      <td>3</td>\n",
       "      <td>2</td>\n",
       "      <td>9</td>\n",
       "      <td>11</td>\n",
       "      <td>11</td>\n",
       "    </tr>\n",
       "    <tr>\n",
       "      <th>2</th>\n",
       "      <td>GP</td>\n",
       "      <td>F</td>\n",
       "      <td>15</td>\n",
       "      <td>U</td>\n",
       "      <td>LE3</td>\n",
       "      <td>T</td>\n",
       "      <td>1</td>\n",
       "      <td>1</td>\n",
       "      <td>at_home</td>\n",
       "      <td>other</td>\n",
       "      <td>...</td>\n",
       "      <td>4</td>\n",
       "      <td>3</td>\n",
       "      <td>2</td>\n",
       "      <td>2</td>\n",
       "      <td>3</td>\n",
       "      <td>3</td>\n",
       "      <td>6</td>\n",
       "      <td>12</td>\n",
       "      <td>13</td>\n",
       "      <td>12</td>\n",
       "    </tr>\n",
       "    <tr>\n",
       "      <th>3</th>\n",
       "      <td>GP</td>\n",
       "      <td>F</td>\n",
       "      <td>15</td>\n",
       "      <td>U</td>\n",
       "      <td>GT3</td>\n",
       "      <td>T</td>\n",
       "      <td>4</td>\n",
       "      <td>2</td>\n",
       "      <td>health</td>\n",
       "      <td>services</td>\n",
       "      <td>...</td>\n",
       "      <td>3</td>\n",
       "      <td>2</td>\n",
       "      <td>2</td>\n",
       "      <td>1</td>\n",
       "      <td>1</td>\n",
       "      <td>5</td>\n",
       "      <td>0</td>\n",
       "      <td>14</td>\n",
       "      <td>14</td>\n",
       "      <td>14</td>\n",
       "    </tr>\n",
       "    <tr>\n",
       "      <th>4</th>\n",
       "      <td>GP</td>\n",
       "      <td>F</td>\n",
       "      <td>16</td>\n",
       "      <td>U</td>\n",
       "      <td>GT3</td>\n",
       "      <td>T</td>\n",
       "      <td>3</td>\n",
       "      <td>3</td>\n",
       "      <td>other</td>\n",
       "      <td>other</td>\n",
       "      <td>...</td>\n",
       "      <td>4</td>\n",
       "      <td>3</td>\n",
       "      <td>2</td>\n",
       "      <td>1</td>\n",
       "      <td>2</td>\n",
       "      <td>5</td>\n",
       "      <td>0</td>\n",
       "      <td>11</td>\n",
       "      <td>13</td>\n",
       "      <td>13</td>\n",
       "    </tr>\n",
       "  </tbody>\n",
       "</table>\n",
       "<p>5 rows × 33 columns</p>\n",
       "</div>"
      ],
      "text/plain": [
       "  school sex  age address famsize Pstatus  Medu  Fedu     Mjob      Fjob  ...  \\\n",
       "0     GP   F   18       U     GT3       A     4     4  at_home   teacher  ...   \n",
       "1     GP   F   17       U     GT3       T     1     1  at_home     other  ...   \n",
       "2     GP   F   15       U     LE3       T     1     1  at_home     other  ...   \n",
       "3     GP   F   15       U     GT3       T     4     2   health  services  ...   \n",
       "4     GP   F   16       U     GT3       T     3     3    other     other  ...   \n",
       "\n",
       "  famrel freetime  goout  Dalc  Walc health absences  G1  G2  G3  \n",
       "0      4        3      4     1     1      3        4   0  11  11  \n",
       "1      5        3      3     1     1      3        2   9  11  11  \n",
       "2      4        3      2     2     3      3        6  12  13  12  \n",
       "3      3        2      2     1     1      5        0  14  14  14  \n",
       "4      4        3      2     1     2      5        0  11  13  13  \n",
       "\n",
       "[5 rows x 33 columns]"
      ]
     },
     "execution_count": 3,
     "metadata": {},
     "output_type": "execute_result"
    }
   ],
   "source": [
    "df_students.head()"
   ]
  },
  {
   "cell_type": "markdown",
   "metadata": {
    "id": "-089tX5YUPpA"
   },
   "source": [
    "#1. Preprocessing"
   ]
  },
  {
   "cell_type": "code",
   "execution_count": 4,
   "metadata": {
    "colab": {
     "base_uri": "https://localhost:8080/"
    },
    "id": "18NhG8NsCFAv",
    "outputId": "556ba36b-ad51-4cbd-a02a-27d24804053f"
   },
   "outputs": [
    {
     "name": "stdout",
     "output_type": "stream",
     "text": [
      "<class 'pandas.core.frame.DataFrame'>\n",
      "RangeIndex: 649 entries, 0 to 648\n",
      "Data columns (total 33 columns):\n",
      " #   Column      Non-Null Count  Dtype \n",
      "---  ------      --------------  ----- \n",
      " 0   school      649 non-null    object\n",
      " 1   sex         649 non-null    object\n",
      " 2   age         649 non-null    int64 \n",
      " 3   address     649 non-null    object\n",
      " 4   famsize     649 non-null    object\n",
      " 5   Pstatus     649 non-null    object\n",
      " 6   Medu        649 non-null    int64 \n",
      " 7   Fedu        649 non-null    int64 \n",
      " 8   Mjob        649 non-null    object\n",
      " 9   Fjob        649 non-null    object\n",
      " 10  reason      649 non-null    object\n",
      " 11  guardian    649 non-null    object\n",
      " 12  traveltime  649 non-null    int64 \n",
      " 13  studytime   649 non-null    int64 \n",
      " 14  failures    649 non-null    int64 \n",
      " 15  schoolsup   649 non-null    object\n",
      " 16  famsup      649 non-null    object\n",
      " 17  paid        649 non-null    object\n",
      " 18  activities  649 non-null    object\n",
      " 19  nursery     649 non-null    object\n",
      " 20  higher      649 non-null    object\n",
      " 21  internet    649 non-null    object\n",
      " 22  romantic    649 non-null    object\n",
      " 23  famrel      649 non-null    int64 \n",
      " 24  freetime    649 non-null    int64 \n",
      " 25  goout       649 non-null    int64 \n",
      " 26  Dalc        649 non-null    int64 \n",
      " 27  Walc        649 non-null    int64 \n",
      " 28  health      649 non-null    int64 \n",
      " 29  absences    649 non-null    int64 \n",
      " 30  G1          649 non-null    int64 \n",
      " 31  G2          649 non-null    int64 \n",
      " 32  G3          649 non-null    int64 \n",
      "dtypes: int64(16), object(17)\n",
      "memory usage: 167.4+ KB\n"
     ]
    }
   ],
   "source": [
    "df_students.info()"
   ]
  },
  {
   "cell_type": "code",
   "execution_count": 5,
   "metadata": {
    "colab": {
     "base_uri": "https://localhost:8080/",
     "height": 320
    },
    "id": "aBpIl_dkDbzq",
    "outputId": "5a9c2595-dd51-4c34-9be8-7e834e6ddb16"
   },
   "outputs": [
    {
     "data": {
      "text/html": [
       "<div>\n",
       "<style scoped>\n",
       "    .dataframe tbody tr th:only-of-type {\n",
       "        vertical-align: middle;\n",
       "    }\n",
       "\n",
       "    .dataframe tbody tr th {\n",
       "        vertical-align: top;\n",
       "    }\n",
       "\n",
       "    .dataframe thead th {\n",
       "        text-align: right;\n",
       "    }\n",
       "</style>\n",
       "<table border=\"1\" class=\"dataframe\">\n",
       "  <thead>\n",
       "    <tr style=\"text-align: right;\">\n",
       "      <th></th>\n",
       "      <th>age</th>\n",
       "      <th>Medu</th>\n",
       "      <th>Fedu</th>\n",
       "      <th>traveltime</th>\n",
       "      <th>studytime</th>\n",
       "      <th>failures</th>\n",
       "      <th>famrel</th>\n",
       "      <th>freetime</th>\n",
       "      <th>goout</th>\n",
       "      <th>Dalc</th>\n",
       "      <th>Walc</th>\n",
       "      <th>health</th>\n",
       "      <th>absences</th>\n",
       "      <th>G1</th>\n",
       "      <th>G2</th>\n",
       "      <th>G3</th>\n",
       "    </tr>\n",
       "  </thead>\n",
       "  <tbody>\n",
       "    <tr>\n",
       "      <th>count</th>\n",
       "      <td>649.000000</td>\n",
       "      <td>649.000000</td>\n",
       "      <td>649.000000</td>\n",
       "      <td>649.000000</td>\n",
       "      <td>649.000000</td>\n",
       "      <td>649.000000</td>\n",
       "      <td>649.000000</td>\n",
       "      <td>649.000000</td>\n",
       "      <td>649.000000</td>\n",
       "      <td>649.000000</td>\n",
       "      <td>649.000000</td>\n",
       "      <td>649.000000</td>\n",
       "      <td>649.000000</td>\n",
       "      <td>649.000000</td>\n",
       "      <td>649.000000</td>\n",
       "      <td>649.000000</td>\n",
       "    </tr>\n",
       "    <tr>\n",
       "      <th>mean</th>\n",
       "      <td>16.744222</td>\n",
       "      <td>2.514638</td>\n",
       "      <td>2.306626</td>\n",
       "      <td>1.568567</td>\n",
       "      <td>1.930663</td>\n",
       "      <td>0.221880</td>\n",
       "      <td>3.930663</td>\n",
       "      <td>3.180277</td>\n",
       "      <td>3.184900</td>\n",
       "      <td>1.502311</td>\n",
       "      <td>2.280431</td>\n",
       "      <td>3.536210</td>\n",
       "      <td>3.659476</td>\n",
       "      <td>11.399076</td>\n",
       "      <td>11.570108</td>\n",
       "      <td>11.906009</td>\n",
       "    </tr>\n",
       "    <tr>\n",
       "      <th>std</th>\n",
       "      <td>1.218138</td>\n",
       "      <td>1.134552</td>\n",
       "      <td>1.099931</td>\n",
       "      <td>0.748660</td>\n",
       "      <td>0.829510</td>\n",
       "      <td>0.593235</td>\n",
       "      <td>0.955717</td>\n",
       "      <td>1.051093</td>\n",
       "      <td>1.175766</td>\n",
       "      <td>0.924834</td>\n",
       "      <td>1.284380</td>\n",
       "      <td>1.446259</td>\n",
       "      <td>4.640759</td>\n",
       "      <td>2.745265</td>\n",
       "      <td>2.913639</td>\n",
       "      <td>3.230656</td>\n",
       "    </tr>\n",
       "    <tr>\n",
       "      <th>min</th>\n",
       "      <td>15.000000</td>\n",
       "      <td>0.000000</td>\n",
       "      <td>0.000000</td>\n",
       "      <td>1.000000</td>\n",
       "      <td>1.000000</td>\n",
       "      <td>0.000000</td>\n",
       "      <td>1.000000</td>\n",
       "      <td>1.000000</td>\n",
       "      <td>1.000000</td>\n",
       "      <td>1.000000</td>\n",
       "      <td>1.000000</td>\n",
       "      <td>1.000000</td>\n",
       "      <td>0.000000</td>\n",
       "      <td>0.000000</td>\n",
       "      <td>0.000000</td>\n",
       "      <td>0.000000</td>\n",
       "    </tr>\n",
       "    <tr>\n",
       "      <th>25%</th>\n",
       "      <td>16.000000</td>\n",
       "      <td>2.000000</td>\n",
       "      <td>1.000000</td>\n",
       "      <td>1.000000</td>\n",
       "      <td>1.000000</td>\n",
       "      <td>0.000000</td>\n",
       "      <td>4.000000</td>\n",
       "      <td>3.000000</td>\n",
       "      <td>2.000000</td>\n",
       "      <td>1.000000</td>\n",
       "      <td>1.000000</td>\n",
       "      <td>2.000000</td>\n",
       "      <td>0.000000</td>\n",
       "      <td>10.000000</td>\n",
       "      <td>10.000000</td>\n",
       "      <td>10.000000</td>\n",
       "    </tr>\n",
       "    <tr>\n",
       "      <th>50%</th>\n",
       "      <td>17.000000</td>\n",
       "      <td>2.000000</td>\n",
       "      <td>2.000000</td>\n",
       "      <td>1.000000</td>\n",
       "      <td>2.000000</td>\n",
       "      <td>0.000000</td>\n",
       "      <td>4.000000</td>\n",
       "      <td>3.000000</td>\n",
       "      <td>3.000000</td>\n",
       "      <td>1.000000</td>\n",
       "      <td>2.000000</td>\n",
       "      <td>4.000000</td>\n",
       "      <td>2.000000</td>\n",
       "      <td>11.000000</td>\n",
       "      <td>11.000000</td>\n",
       "      <td>12.000000</td>\n",
       "    </tr>\n",
       "    <tr>\n",
       "      <th>75%</th>\n",
       "      <td>18.000000</td>\n",
       "      <td>4.000000</td>\n",
       "      <td>3.000000</td>\n",
       "      <td>2.000000</td>\n",
       "      <td>2.000000</td>\n",
       "      <td>0.000000</td>\n",
       "      <td>5.000000</td>\n",
       "      <td>4.000000</td>\n",
       "      <td>4.000000</td>\n",
       "      <td>2.000000</td>\n",
       "      <td>3.000000</td>\n",
       "      <td>5.000000</td>\n",
       "      <td>6.000000</td>\n",
       "      <td>13.000000</td>\n",
       "      <td>13.000000</td>\n",
       "      <td>14.000000</td>\n",
       "    </tr>\n",
       "    <tr>\n",
       "      <th>max</th>\n",
       "      <td>22.000000</td>\n",
       "      <td>4.000000</td>\n",
       "      <td>4.000000</td>\n",
       "      <td>4.000000</td>\n",
       "      <td>4.000000</td>\n",
       "      <td>3.000000</td>\n",
       "      <td>5.000000</td>\n",
       "      <td>5.000000</td>\n",
       "      <td>5.000000</td>\n",
       "      <td>5.000000</td>\n",
       "      <td>5.000000</td>\n",
       "      <td>5.000000</td>\n",
       "      <td>32.000000</td>\n",
       "      <td>19.000000</td>\n",
       "      <td>19.000000</td>\n",
       "      <td>19.000000</td>\n",
       "    </tr>\n",
       "  </tbody>\n",
       "</table>\n",
       "</div>"
      ],
      "text/plain": [
       "              age        Medu        Fedu  traveltime   studytime    failures  \\\n",
       "count  649.000000  649.000000  649.000000  649.000000  649.000000  649.000000   \n",
       "mean    16.744222    2.514638    2.306626    1.568567    1.930663    0.221880   \n",
       "std      1.218138    1.134552    1.099931    0.748660    0.829510    0.593235   \n",
       "min     15.000000    0.000000    0.000000    1.000000    1.000000    0.000000   \n",
       "25%     16.000000    2.000000    1.000000    1.000000    1.000000    0.000000   \n",
       "50%     17.000000    2.000000    2.000000    1.000000    2.000000    0.000000   \n",
       "75%     18.000000    4.000000    3.000000    2.000000    2.000000    0.000000   \n",
       "max     22.000000    4.000000    4.000000    4.000000    4.000000    3.000000   \n",
       "\n",
       "           famrel    freetime       goout        Dalc        Walc      health  \\\n",
       "count  649.000000  649.000000  649.000000  649.000000  649.000000  649.000000   \n",
       "mean     3.930663    3.180277    3.184900    1.502311    2.280431    3.536210   \n",
       "std      0.955717    1.051093    1.175766    0.924834    1.284380    1.446259   \n",
       "min      1.000000    1.000000    1.000000    1.000000    1.000000    1.000000   \n",
       "25%      4.000000    3.000000    2.000000    1.000000    1.000000    2.000000   \n",
       "50%      4.000000    3.000000    3.000000    1.000000    2.000000    4.000000   \n",
       "75%      5.000000    4.000000    4.000000    2.000000    3.000000    5.000000   \n",
       "max      5.000000    5.000000    5.000000    5.000000    5.000000    5.000000   \n",
       "\n",
       "         absences          G1          G2          G3  \n",
       "count  649.000000  649.000000  649.000000  649.000000  \n",
       "mean     3.659476   11.399076   11.570108   11.906009  \n",
       "std      4.640759    2.745265    2.913639    3.230656  \n",
       "min      0.000000    0.000000    0.000000    0.000000  \n",
       "25%      0.000000   10.000000   10.000000   10.000000  \n",
       "50%      2.000000   11.000000   11.000000   12.000000  \n",
       "75%      6.000000   13.000000   13.000000   14.000000  \n",
       "max     32.000000   19.000000   19.000000   19.000000  "
      ]
     },
     "execution_count": 5,
     "metadata": {},
     "output_type": "execute_result"
    }
   ],
   "source": [
    "df_students.describe()"
   ]
  },
  {
   "cell_type": "code",
   "execution_count": 6,
   "metadata": {
    "colab": {
     "base_uri": "https://localhost:8080/"
    },
    "id": "-nh-jB6BDjnD",
    "outputId": "013c0f78-c95b-434c-946f-cbd6ab2ecb25"
   },
   "outputs": [
    {
     "data": {
      "text/plain": [
       "school        0\n",
       "sex           0\n",
       "age           0\n",
       "address       0\n",
       "famsize       0\n",
       "Pstatus       0\n",
       "Medu          0\n",
       "Fedu          0\n",
       "Mjob          0\n",
       "Fjob          0\n",
       "reason        0\n",
       "guardian      0\n",
       "traveltime    0\n",
       "studytime     0\n",
       "failures      0\n",
       "schoolsup     0\n",
       "famsup        0\n",
       "paid          0\n",
       "activities    0\n",
       "nursery       0\n",
       "higher        0\n",
       "internet      0\n",
       "romantic      0\n",
       "famrel        0\n",
       "freetime      0\n",
       "goout         0\n",
       "Dalc          0\n",
       "Walc          0\n",
       "health        0\n",
       "absences      0\n",
       "G1            0\n",
       "G2            0\n",
       "G3            0\n",
       "dtype: int64"
      ]
     },
     "execution_count": 6,
     "metadata": {},
     "output_type": "execute_result"
    }
   ],
   "source": [
    "df_students.isna().sum(axis=0)"
   ]
  },
  {
   "cell_type": "code",
   "execution_count": 7,
   "metadata": {
    "colab": {
     "base_uri": "https://localhost:8080/"
    },
    "id": "X7UXbjujDopc",
    "outputId": "067c6ad8-9ffe-4bfc-858b-8e17cdd96210"
   },
   "outputs": [
    {
     "data": {
      "text/plain": [
       "Index(['school', 'sex', 'age', 'address', 'famsize', 'Pstatus', 'Medu', 'Fedu',\n",
       "       'Mjob', 'Fjob', 'reason', 'guardian', 'traveltime', 'studytime',\n",
       "       'failures', 'schoolsup', 'famsup', 'paid', 'activities', 'nursery',\n",
       "       'higher', 'internet', 'romantic', 'famrel', 'freetime', 'goout', 'Dalc',\n",
       "       'Walc', 'health', 'absences', 'G1', 'G2', 'G3'],\n",
       "      dtype='object')"
      ]
     },
     "execution_count": 7,
     "metadata": {},
     "output_type": "execute_result"
    }
   ],
   "source": [
    "df_students.columns"
   ]
  },
  {
   "cell_type": "code",
   "execution_count": 8,
   "metadata": {
    "id": "0hyRvbDRa3h8"
   },
   "outputs": [],
   "source": [
    "numerical_columns = ['age', 'Medu', 'Fedu', 'traveltime', 'studytime',\n",
    "       'failures', 'famrel', 'freetime', 'goout', 'Dalc',\n",
    "       'Walc', 'health', 'absences', 'G1', 'G2', 'G3']\n",
    "categorical_columns =['school', 'sex', 'address', 'famsize', 'Pstatus',\n",
    "       'Mjob', 'Fjob', 'reason', 'guardian', 'schoolsup', 'famsup', 'paid', 'activities', 'nursery',\n",
    "       'higher', 'internet', 'romantic']"
   ]
  },
  {
   "cell_type": "code",
   "execution_count": 9,
   "metadata": {
    "id": "0c4b-YGxyKbG"
   },
   "outputs": [],
   "source": [
    "# Imputation transformer\n",
    "imputer = SimpleImputer(strategy='mean') # or 'median', 'most_frequent'\n",
    "\n",
    "# Encoding transformer\n",
    "encoder = OneHotEncoder(handle_unknown='ignore')\n",
    "\n",
    "# Scaling transformer\n",
    "scaler = StandardScaler()\n",
    "\n",
    "def dynamic_column_selector(column_names):\n",
    "    def column_selector(X):\n",
    "        return [col for col in column_names if col in X.columns]\n",
    "    return column_selector\n",
    "\n",
    "# Combine transformers into a ColumnTransformer\n",
    "preprocessor = ColumnTransformer(\n",
    "    transformers=[\n",
    "        ('num', scaler, dynamic_column_selector(numerical_columns)),\n",
    "        ('cat', encoder, dynamic_column_selector(categorical_columns)),\n",
    "        ('impute', imputer, dynamic_column_selector(numerical_columns)),\n",
    "    ])"
   ]
  },
  {
   "cell_type": "code",
   "execution_count": 10,
   "metadata": {
    "id": "RiVXKPPaxFLb"
   },
   "outputs": [],
   "source": [
    "# Creating Pipeline for each Model separately\n",
    "pipe_dt = Pipeline([('preprocessor', preprocessor), ('DT', DecisionTreeClassifier(random_state=42))])\n",
    "pipe_rf = Pipeline([('preprocessor', preprocessor), ('RF', RandomForestClassifier(random_state=42))])\n",
    "pipe_knn = Pipeline([('preprocessor', preprocessor), ('KNN', KNeighborsClassifier())])"
   ]
  },
  {
   "cell_type": "code",
   "execution_count": 11,
   "metadata": {
    "id": "vRSwyjtWxHmW"
   },
   "outputs": [],
   "source": [
    "# Dividing Data into Training and Testing Dataset\n",
    "X = df_students.drop('G3', axis=1)\n",
    "y = df_students['G3'].ravel()\n",
    "X_train, X_test, y_train, y_test = train_test_split(X, y, test_size=0.2, random_state=42)"
   ]
  },
  {
   "cell_type": "markdown",
   "metadata": {
    "id": "QPiWeyPpHJxW"
   },
   "source": [
    "#2. Training ML Models"
   ]
  },
  {
   "cell_type": "code",
   "execution_count": 12,
   "metadata": {
    "colab": {
     "base_uri": "https://localhost:8080/",
     "height": 1000
    },
    "id": "m8WhOn3a19Ui",
    "outputId": "7c21525b-0468-4bea-f99a-818f4eb5db83"
   },
   "outputs": [
    {
     "name": "stdout",
     "output_type": "stream",
     "text": [
      "DECISION TREE\n",
      "Predicted Values: [17 11 17 12 11]\n",
      "Actual Values: [19 12 18 11 11]\n",
      "Decision Tree MAE: 0.83\n",
      "Decision Tree RMSE: 1.42\n",
      "Accuracy: 39.23%\n"
     ]
    },
    {
     "data": {
      "image/png": "[encoded data removed]",
      "text/plain": [
       "<Figure size 640x480 with 1 Axes>"
      ]
     },
     "metadata": {},
     "output_type": "display_data"
    },
    {
     "name": "stdout",
     "output_type": "stream",
     "text": [
      "\n",
      "\n",
      "RANDOM FOREST\n",
      "Predicted Values: [17 11 17 11 11]\n",
      "Actual Values: [19 12 18 11 11]\n",
      "Random Forest MAE: 0.7\n",
      "Random Forest RMSE: 1.26\n",
      "Accuracy: 46.15%\n"
     ]
    },
    {
     "data": {
      "image/png": "[encoded data removed]",
      "text/plain": [
       "<Figure size 640x480 with 1 Axes>"
      ]
     },
     "metadata": {},
     "output_type": "display_data"
    },
    {
     "name": "stdout",
     "output_type": "stream",
     "text": [
      "\n",
      "\n",
      "K-NEAREST NEIGHBORS\n",
      "Predicted Values: [17 13 17 11 12]\n",
      "Actual Values: [19 12 18 11 11]\n",
      "K-Nearest Neighbors MAE: 1.15\n",
      "K-Nearest Neighbors RMSE: 1.76\n",
      "Accuracy: 30.0%\n"
     ]
    },
    {
     "data": {
      "image/png": "[encoded data removed]",
      "text/plain": [
       "<Figure size 640x480 with 1 Axes>"
      ]
     },
     "metadata": {},
     "output_type": "display_data"
    },
    {
     "name": "stdout",
     "output_type": "stream",
     "text": [
      "\n",
      "\n"
     ]
    }
   ],
   "source": [
    "\n",
    "from sklearn.metrics import mean_absolute_error, mean_squared_error, accuracy_score\n",
    "import numpy as np\n",
    "import matplotlib.pyplot as plt\n",
    "\n",
    "models = [pipe_dt, pipe_rf, pipe_knn]\n",
    "model_names = ['Decision Tree', 'Random Forest', 'K-Nearest Neighbors']\n",
    "\n",
    "for model, name in zip(models, model_names):\n",
    "    model.fit(X_train, y_train)\n",
    "    y_pred = model.predict(X_test)\n",
    "    print(name.upper())\n",
    "    print(f\"Predicted Values: {y_pred[:5]}\")\n",
    "    print(f\"Actual Values: {y_test[:5]}\")\n",
    "    mae = mean_absolute_error(y_test, y_pred)\n",
    "    print(f\"{name} MAE: {round(mae, 2)}\")\n",
    "\n",
    "    mse = mean_squared_error(y_test, y_pred)\n",
    "    rmse = np.sqrt(mse)\n",
    "    print(f\"{name} RMSE: {round(rmse, 2)}\")\n",
    "    acc = accuracy_score(y_test, y_pred)*100\n",
    "    print(f\"Accuracy: {round(acc, 2)}%\")\n",
    "    plt.scatter(y_test, y_pred, color='blue', label='Predicted')\n",
    "    plt.scatter(y_test, y_test, color='red', label='Actual')\n",
    "\n",
    "    plt.xlabel(\"actual\")\n",
    "    plt.ylabel(\"prediction\")\n",
    "    plt.show()\n",
    "    print(\"\\n\")\n"
   ]
  },
  {
   "cell_type": "markdown",
   "metadata": {
    "id": "kmwUocnUlbRP"
   },
   "source": [
    "###The scatter plots suggest a concentration of accurate predictions within the range of Radiant to Ascendant 1 (7.5-18 on the ranking scale)\n",
    "\n",
    "###Trained multiple models (Decision Tree, Random Forest, KNN, LASSO) to predict student G3 using stats. Random Forest performed best (46.15% accuracy), it's difficult to predict grade with high accuracy due to missing factors and limitations of the grade system itself."
   ]
  },
  {
   "cell_type": "markdown",
   "metadata": {
    "id": "JLseRKDjt8KC"
   },
   "source": [
    "#3.Hyperparameter Optimization"
   ]
  },
  {
   "cell_type": "markdown",
   "metadata": {
    "id": "P5uSRPK_xoz-"
   },
   "source": [
    "###Random Forest Optimization"
   ]
  },
  {
   "cell_type": "code",
   "execution_count": 13,
   "metadata": {
    "colab": {
     "base_uri": "https://localhost:8080/",
     "height": 1000
    },
    "id": "VaYKYSHzs2U5",
    "outputId": "9e214267-b6da-47e2-842c-3a685164df09"
   },
   "outputs": [
    {
     "name": "stderr",
     "output_type": "stream",
     "text": [
      "C:\\Users\\shall\\Documents\\New folder\\Lib\\site-packages\\sklearn\\model_selection\\_search.py:305: UserWarning: The total space of parameters 12 is smaller than n_iter=100. Running 12 iterations. For exhaustive searches, use GridSearchCV.\n",
      "  warnings.warn(\n",
      "C:\\Users\\shall\\Documents\\New folder\\Lib\\site-packages\\sklearn\\model_selection\\_split.py:700: UserWarning: The least populated class in y has only 1 members, which is less than n_splits=5.\n",
      "  warnings.warn(\n"
     ]
    },
    {
     "name": "stdout",
     "output_type": "stream",
     "text": [
      "Fitting 5 folds for each of 12 candidates, totalling 60 fits\n",
      "[CV] END RF__max_depth=3, RF__max_features=auto, RF__n_estimators=100; total time=   0.1s\n",
      "[CV] END RF__max_depth=3, RF__max_features=auto, RF__n_estimators=100; total time=   0.1s\n",
      "[CV] END RF__max_depth=3, RF__max_features=auto, RF__n_estimators=100; total time=   0.0s\n",
      "[CV] END RF__max_depth=3, RF__max_features=auto, RF__n_estimators=100; total time=   0.1s\n",
      "[CV] END RF__max_depth=3, RF__max_features=auto, RF__n_estimators=100; total time=   0.1s\n",
      "[CV] END RF__max_depth=3, RF__max_features=auto, RF__n_estimators=200; total time=   0.3s\n",
      "[CV] END RF__max_depth=3, RF__max_features=auto, RF__n_estimators=200; total time=   0.3s\n",
      "[CV] END RF__max_depth=3, RF__max_features=auto, RF__n_estimators=200; total time=   0.3s\n",
      "[CV] END RF__max_depth=3, RF__max_features=auto, RF__n_estimators=200; total time=   0.2s\n",
      "[CV] END RF__max_depth=3, RF__max_features=auto, RF__n_estimators=200; total time=   0.2s\n",
      "[CV] END RF__max_depth=3, RF__max_features=sqrt, RF__n_estimators=100; total time=   0.1s\n",
      "[CV] END RF__max_depth=3, RF__max_features=sqrt, RF__n_estimators=100; total time=   0.1s\n",
      "[CV] END RF__max_depth=3, RF__max_features=sqrt, RF__n_estimators=100; total time=   0.0s\n",
      "[CV] END RF__max_depth=3, RF__max_features=sqrt, RF__n_estimators=100; total time=   0.1s\n",
      "[CV] END RF__max_depth=3, RF__max_features=sqrt, RF__n_estimators=100; total time=   0.1s\n",
      "[CV] END RF__max_depth=3, RF__max_features=sqrt, RF__n_estimators=200; total time=   0.2s\n",
      "[CV] END RF__max_depth=3, RF__max_features=sqrt, RF__n_estimators=200; total time=   0.2s\n",
      "[CV] END RF__max_depth=3, RF__max_features=sqrt, RF__n_estimators=200; total time=   0.2s\n",
      "[CV] END RF__max_depth=3, RF__max_features=sqrt, RF__n_estimators=200; total time=   0.2s\n",
      "[CV] END RF__max_depth=3, RF__max_features=sqrt, RF__n_estimators=200; total time=   0.2s\n",
      "[CV] END RF__max_depth=3, RF__max_features=log2, RF__n_estimators=100; total time=   0.1s\n",
      "[CV] END RF__max_depth=3, RF__max_features=log2, RF__n_estimators=100; total time=   0.1s\n",
      "[CV] END RF__max_depth=3, RF__max_features=log2, RF__n_estimators=100; total time=   0.1s\n",
      "[CV] END RF__max_depth=3, RF__max_features=log2, RF__n_estimators=100; total time=   0.0s\n",
      "[CV] END RF__max_depth=3, RF__max_features=log2, RF__n_estimators=100; total time=   0.1s\n",
      "[CV] END RF__max_depth=3, RF__max_features=log2, RF__n_estimators=200; total time=   0.2s\n",
      "[CV] END RF__max_depth=3, RF__max_features=log2, RF__n_estimators=200; total time=   0.2s\n",
      "[CV] END RF__max_depth=3, RF__max_features=log2, RF__n_estimators=200; total time=   0.2s\n",
      "[CV] END RF__max_depth=3, RF__max_features=log2, RF__n_estimators=200; total time=   0.2s\n",
      "[CV] END RF__max_depth=3, RF__max_features=log2, RF__n_estimators=200; total time=   0.2s\n",
      "[CV] END RF__max_depth=5, RF__max_features=auto, RF__n_estimators=100; total time=   0.1s\n",
      "[CV] END RF__max_depth=5, RF__max_features=auto, RF__n_estimators=100; total time=   0.1s\n",
      "[CV] END RF__max_depth=5, RF__max_features=auto, RF__n_estimators=100; total time=   0.1s\n",
      "[CV] END RF__max_depth=5, RF__max_features=auto, RF__n_estimators=100; total time=   0.1s\n",
      "[CV] END RF__max_depth=5, RF__max_features=auto, RF__n_estimators=100; total time=   0.1s\n",
      "[CV] END RF__max_depth=5, RF__max_features=auto, RF__n_estimators=200; total time=   0.3s\n",
      "[CV] END RF__max_depth=5, RF__max_features=auto, RF__n_estimators=200; total time=   0.2s\n",
      "[CV] END RF__max_depth=5, RF__max_features=auto, RF__n_estimators=200; total time=   0.2s\n",
      "[CV] END RF__max_depth=5, RF__max_features=auto, RF__n_estimators=200; total time=   0.3s\n",
      "[CV] END RF__max_depth=5, RF__max_features=auto, RF__n_estimators=200; total time=   0.2s\n",
      "[CV] END RF__max_depth=5, RF__max_features=sqrt, RF__n_estimators=100; total time=   0.1s\n",
      "[CV] END RF__max_depth=5, RF__max_features=sqrt, RF__n_estimators=100; total time=   0.1s\n",
      "[CV] END RF__max_depth=5, RF__max_features=sqrt, RF__n_estimators=100; total time=   0.1s\n",
      "[CV] END RF__max_depth=5, RF__max_features=sqrt, RF__n_estimators=100; total time=   0.1s\n",
      "[CV] END RF__max_depth=5, RF__max_features=sqrt, RF__n_estimators=100; total time=   0.1s\n",
      "[CV] END RF__max_depth=5, RF__max_features=sqrt, RF__n_estimators=200; total time=   0.2s\n",
      "[CV] END RF__max_depth=5, RF__max_features=sqrt, RF__n_estimators=200; total time=   0.3s\n",
      "[CV] END RF__max_depth=5, RF__max_features=sqrt, RF__n_estimators=200; total time=   0.3s\n",
      "[CV] END RF__max_depth=5, RF__max_features=sqrt, RF__n_estimators=200; total time=   0.3s\n",
      "[CV] END RF__max_depth=5, RF__max_features=sqrt, RF__n_estimators=200; total time=   0.3s\n",
      "[CV] END RF__max_depth=5, RF__max_features=log2, RF__n_estimators=100; total time=   0.1s\n",
      "[CV] END RF__max_depth=5, RF__max_features=log2, RF__n_estimators=100; total time=   0.1s\n",
      "[CV] END RF__max_depth=5, RF__max_features=log2, RF__n_estimators=100; total time=   0.1s\n",
      "[CV] END RF__max_depth=5, RF__max_features=log2, RF__n_estimators=100; total time=   0.1s\n",
      "[CV] END RF__max_depth=5, RF__max_features=log2, RF__n_estimators=100; total time=   0.1s\n",
      "[CV] END RF__max_depth=5, RF__max_features=log2, RF__n_estimators=200; total time=   0.3s\n",
      "[CV] END RF__max_depth=5, RF__max_features=log2, RF__n_estimators=200; total time=   0.3s\n",
      "[CV] END RF__max_depth=5, RF__max_features=log2, RF__n_estimators=200; total time=   0.2s\n",
      "[CV] END RF__max_depth=5, RF__max_features=log2, RF__n_estimators=200; total time=   0.2s\n",
      "[CV] END RF__max_depth=5, RF__max_features=log2, RF__n_estimators=200; total time=   0.3s\n"
     ]
    },
    {
     "data": {
      "text/html": [
       "<style>#sk-container-id-1 {color: black;background-color: white;}#sk-container-id-1 pre{padding: 0;}#sk-container-id-1 div.sk-toggleable {background-color: white;}#sk-container-id-1 label.sk-toggleable__label {cursor: pointer;display: block;width: 100%;margin-bottom: 0;padding: 0.3em;box-sizing: border-box;text-align: center;}#sk-container-id-1 label.sk-toggleable__label-arrow:before {content: \"▸\";float: left;margin-right: 0.25em;color: #696969;}#sk-container-id-1 label.sk-toggleable__label-arrow:hover:before {color: black;}#sk-container-id-1 div.sk-estimator:hover label.sk-toggleable__label-arrow:before {color: black;}#sk-container-id-1 div.sk-toggleable__content {max-height: 0;max-width: 0;overflow: hidden;text-align: left;background-color: #f0f8ff;}#sk-container-id-1 div.sk-toggleable__content pre {margin: 0.2em;color: black;border-radius: 0.25em;background-color: #f0f8ff;}#sk-container-id-1 input.sk-toggleable__control:checked~div.sk-toggleable__content {max-height: 200px;max-width: 100%;overflow: auto;}#sk-container-id-1 input.sk-toggleable__control:checked~label.sk-toggleable__label-arrow:before {content: \"▾\";}#sk-container-id-1 div.sk-estimator input.sk-toggleable__control:checked~label.sk-toggleable__label {background-color: #d4ebff;}#sk-container-id-1 div.sk-label input.sk-toggleable__control:checked~label.sk-toggleable__label {background-color: #d4ebff;}#sk-container-id-1 input.sk-hidden--visually {border: 0;clip: rect(1px 1px 1px 1px);clip: rect(1px, 1px, 1px, 1px);height: 1px;margin: -1px;overflow: hidden;padding: 0;position: absolute;width: 1px;}#sk-container-id-1 div.sk-estimator {font-family: monospace;background-color: #f0f8ff;border: 1px dotted black;border-radius: 0.25em;box-sizing: border-box;margin-bottom: 0.5em;}#sk-container-id-1 div.sk-estimator:hover {background-color: #d4ebff;}#sk-container-id-1 div.sk-parallel-item::after {content: \"\";width: 100%;border-bottom: 1px solid gray;flex-grow: 1;}#sk-container-id-1 div.sk-label:hover label.sk-toggleable__label {background-color: #d4ebff;}#sk-container-id-1 div.sk-serial::before {content: \"\";position: absolute;border-left: 1px solid gray;box-sizing: border-box;top: 0;bottom: 0;left: 50%;z-index: 0;}#sk-container-id-1 div.sk-serial {display: flex;flex-direction: column;align-items: center;background-color: white;padding-right: 0.2em;padding-left: 0.2em;position: relative;}#sk-container-id-1 div.sk-item {position: relative;z-index: 1;}#sk-container-id-1 div.sk-parallel {display: flex;align-items: stretch;justify-content: center;background-color: white;position: relative;}#sk-container-id-1 div.sk-item::before, #sk-container-id-1 div.sk-parallel-item::before {content: \"\";position: absolute;border-left: 1px solid gray;box-sizing: border-box;top: 0;bottom: 0;left: 50%;z-index: -1;}#sk-container-id-1 div.sk-parallel-item {display: flex;flex-direction: column;z-index: 1;position: relative;background-color: white;}#sk-container-id-1 div.sk-parallel-item:first-child::after {align-self: flex-end;width: 50%;}#sk-container-id-1 div.sk-parallel-item:last-child::after {align-self: flex-start;width: 50%;}#sk-container-id-1 div.sk-parallel-item:only-child::after {width: 0;}#sk-container-id-1 div.sk-dashed-wrapped {border: 1px dashed gray;margin: 0 0.4em 0.5em 0.4em;box-sizing: border-box;padding-bottom: 0.4em;background-color: white;}#sk-container-id-1 div.sk-label label {font-family: monospace;font-weight: bold;display: inline-block;line-height: 1.2em;}#sk-container-id-1 div.sk-label-container {text-align: center;}#sk-container-id-1 div.sk-container {/* jupyter's `normalize.less` sets `[hidden] { display: none; }` but bootstrap.min.css set `[hidden] { display: none !important; }` so we also need the `!important` here to be able to override the default hidden behavior on the sphinx rendered scikit-learn.org. See: https://github.com/scikit-learn/scikit-learn/issues/21755 */display: inline-block !important;position: relative;}#sk-container-id-1 div.sk-text-repr-fallback {display: none;}</style><div id=\"sk-container-id-1\" class=\"sk-top-container\"><div class=\"sk-text-repr-fallback\"><pre>RandomizedSearchCV(cv=5,\n",
       "                   estimator=Pipeline(steps=[(&#x27;preprocessor&#x27;,\n",
       "                                              ColumnTransformer(transformers=[(&#x27;num&#x27;,\n",
       "                                                                               StandardScaler(),\n",
       "                                                                               &lt;function dynamic_column_selector.&lt;locals&gt;.column_selector at 0x000002441219F9C0&gt;),\n",
       "                                                                              (&#x27;cat&#x27;,\n",
       "                                                                               OneHotEncoder(handle_unknown=&#x27;ignore&#x27;),\n",
       "                                                                               &lt;function dynamic_column_selector.&lt;locals&gt;.column_selector at 0x000002441219D620&gt;),\n",
       "                                                                              (&#x27;impute&#x27;,\n",
       "                                                                               SimpleImputer(),\n",
       "                                                                               &lt;function dynamic_column_selector.&lt;locals&gt;.column_selector at 0x000002441219FCE0&gt;)])),\n",
       "                                             (&#x27;RF&#x27;,\n",
       "                                              RandomForestClassifier(random_state=42))]),\n",
       "                   n_iter=100,\n",
       "                   param_distributions={&#x27;RF__max_depth&#x27;: [3, 5],\n",
       "                                        &#x27;RF__max_features&#x27;: [&#x27;auto&#x27;, &#x27;sqrt&#x27;,\n",
       "                                                             &#x27;log2&#x27;],\n",
       "                                        &#x27;RF__n_estimators&#x27;: [100, 200]},\n",
       "                   scoring=&#x27;accuracy&#x27;, verbose=2)</pre><b>In a Jupyter environment, please rerun this cell to show the HTML representation or trust the notebook. <br />On GitHub, the HTML representation is unable to render, please try loading this page with nbviewer.org.</b></div><div class=\"sk-container\" hidden><div class=\"sk-item sk-dashed-wrapped\"><div class=\"sk-label-container\"><div class=\"sk-label sk-toggleable\"><input class=\"sk-toggleable__control sk-hidden--visually\" id=\"sk-estimator-id-1\" type=\"checkbox\" ><label for=\"sk-estimator-id-1\" class=\"sk-toggleable__label sk-toggleable__label-arrow\">RandomizedSearchCV</label><div class=\"sk-toggleable__content\"><pre>RandomizedSearchCV(cv=5,\n",
       "                   estimator=Pipeline(steps=[(&#x27;preprocessor&#x27;,\n",
       "                                              ColumnTransformer(transformers=[(&#x27;num&#x27;,\n",
       "                                                                               StandardScaler(),\n",
       "                                                                               &lt;function dynamic_column_selector.&lt;locals&gt;.column_selector at 0x000002441219F9C0&gt;),\n",
       "                                                                              (&#x27;cat&#x27;,\n",
       "                                                                               OneHotEncoder(handle_unknown=&#x27;ignore&#x27;),\n",
       "                                                                               &lt;function dynamic_column_selector.&lt;locals&gt;.column_selector at 0x000002441219D620&gt;),\n",
       "                                                                              (&#x27;impute&#x27;,\n",
       "                                                                               SimpleImputer(),\n",
       "                                                                               &lt;function dynamic_column_selector.&lt;locals&gt;.column_selector at 0x000002441219FCE0&gt;)])),\n",
       "                                             (&#x27;RF&#x27;,\n",
       "                                              RandomForestClassifier(random_state=42))]),\n",
       "                   n_iter=100,\n",
       "                   param_distributions={&#x27;RF__max_depth&#x27;: [3, 5],\n",
       "                                        &#x27;RF__max_features&#x27;: [&#x27;auto&#x27;, &#x27;sqrt&#x27;,\n",
       "                                                             &#x27;log2&#x27;],\n",
       "                                        &#x27;RF__n_estimators&#x27;: [100, 200]},\n",
       "                   scoring=&#x27;accuracy&#x27;, verbose=2)</pre></div></div></div><div class=\"sk-parallel\"><div class=\"sk-parallel-item\"><div class=\"sk-item\"><div class=\"sk-label-container\"><div class=\"sk-label sk-toggleable\"><input class=\"sk-toggleable__control sk-hidden--visually\" id=\"sk-estimator-id-2\" type=\"checkbox\" ><label for=\"sk-estimator-id-2\" class=\"sk-toggleable__label sk-toggleable__label-arrow\">estimator: Pipeline</label><div class=\"sk-toggleable__content\"><pre>Pipeline(steps=[(&#x27;preprocessor&#x27;,\n",
       "                 ColumnTransformer(transformers=[(&#x27;num&#x27;, StandardScaler(),\n",
       "                                                  &lt;function dynamic_column_selector.&lt;locals&gt;.column_selector at 0x000002441219F9C0&gt;),\n",
       "                                                 (&#x27;cat&#x27;,\n",
       "                                                  OneHotEncoder(handle_unknown=&#x27;ignore&#x27;),\n",
       "                                                  &lt;function dynamic_column_selector.&lt;locals&gt;.column_selector at 0x000002441219D620&gt;),\n",
       "                                                 (&#x27;impute&#x27;, SimpleImputer(),\n",
       "                                                  &lt;function dynamic_column_selector.&lt;locals&gt;.column_selector at 0x000002441219FCE0&gt;)])),\n",
       "                (&#x27;RF&#x27;, RandomForestClassifier(random_state=42))])</pre></div></div></div><div class=\"sk-serial\"><div class=\"sk-item\"><div class=\"sk-serial\"><div class=\"sk-item sk-dashed-wrapped\"><div class=\"sk-label-container\"><div class=\"sk-label sk-toggleable\"><input class=\"sk-toggleable__control sk-hidden--visually\" id=\"sk-estimator-id-3\" type=\"checkbox\" ><label for=\"sk-estimator-id-3\" class=\"sk-toggleable__label sk-toggleable__label-arrow\">preprocessor: ColumnTransformer</label><div class=\"sk-toggleable__content\"><pre>ColumnTransformer(transformers=[(&#x27;num&#x27;, StandardScaler(),\n",
       "                                 &lt;function dynamic_column_selector.&lt;locals&gt;.column_selector at 0x000002441219F9C0&gt;),\n",
       "                                (&#x27;cat&#x27;, OneHotEncoder(handle_unknown=&#x27;ignore&#x27;),\n",
       "                                 &lt;function dynamic_column_selector.&lt;locals&gt;.column_selector at 0x000002441219D620&gt;),\n",
       "                                (&#x27;impute&#x27;, SimpleImputer(),\n",
       "                                 &lt;function dynamic_column_selector.&lt;locals&gt;.column_selector at 0x000002441219FCE0&gt;)])</pre></div></div></div><div class=\"sk-parallel\"><div class=\"sk-parallel-item\"><div class=\"sk-item\"><div class=\"sk-label-container\"><div class=\"sk-label sk-toggleable\"><input class=\"sk-toggleable__control sk-hidden--visually\" id=\"sk-estimator-id-4\" type=\"checkbox\" ><label for=\"sk-estimator-id-4\" class=\"sk-toggleable__label sk-toggleable__label-arrow\">num</label><div class=\"sk-toggleable__content\"><pre>&lt;function dynamic_column_selector.&lt;locals&gt;.column_selector at 0x000002441219F9C0&gt;</pre></div></div></div><div class=\"sk-serial\"><div class=\"sk-item\"><div class=\"sk-estimator sk-toggleable\"><input class=\"sk-toggleable__control sk-hidden--visually\" id=\"sk-estimator-id-5\" type=\"checkbox\" ><label for=\"sk-estimator-id-5\" class=\"sk-toggleable__label sk-toggleable__label-arrow\">StandardScaler</label><div class=\"sk-toggleable__content\"><pre>StandardScaler()</pre></div></div></div></div></div></div><div class=\"sk-parallel-item\"><div class=\"sk-item\"><div class=\"sk-label-container\"><div class=\"sk-label sk-toggleable\"><input class=\"sk-toggleable__control sk-hidden--visually\" id=\"sk-estimator-id-6\" type=\"checkbox\" ><label for=\"sk-estimator-id-6\" class=\"sk-toggleable__label sk-toggleable__label-arrow\">cat</label><div class=\"sk-toggleable__content\"><pre>&lt;function dynamic_column_selector.&lt;locals&gt;.column_selector at 0x000002441219D620&gt;</pre></div></div></div><div class=\"sk-serial\"><div class=\"sk-item\"><div class=\"sk-estimator sk-toggleable\"><input class=\"sk-toggleable__control sk-hidden--visually\" id=\"sk-estimator-id-7\" type=\"checkbox\" ><label for=\"sk-estimator-id-7\" class=\"sk-toggleable__label sk-toggleable__label-arrow\">OneHotEncoder</label><div class=\"sk-toggleable__content\"><pre>OneHotEncoder(handle_unknown=&#x27;ignore&#x27;)</pre></div></div></div></div></div></div><div class=\"sk-parallel-item\"><div class=\"sk-item\"><div class=\"sk-label-container\"><div class=\"sk-label sk-toggleable\"><input class=\"sk-toggleable__control sk-hidden--visually\" id=\"sk-estimator-id-8\" type=\"checkbox\" ><label for=\"sk-estimator-id-8\" class=\"sk-toggleable__label sk-toggleable__label-arrow\">impute</label><div class=\"sk-toggleable__content\"><pre>&lt;function dynamic_column_selector.&lt;locals&gt;.column_selector at 0x000002441219FCE0&gt;</pre></div></div></div><div class=\"sk-serial\"><div class=\"sk-item\"><div class=\"sk-estimator sk-toggleable\"><input class=\"sk-toggleable__control sk-hidden--visually\" id=\"sk-estimator-id-9\" type=\"checkbox\" ><label for=\"sk-estimator-id-9\" class=\"sk-toggleable__label sk-toggleable__label-arrow\">SimpleImputer</label><div class=\"sk-toggleable__content\"><pre>SimpleImputer()</pre></div></div></div></div></div></div></div></div><div class=\"sk-item\"><div class=\"sk-estimator sk-toggleable\"><input class=\"sk-toggleable__control sk-hidden--visually\" id=\"sk-estimator-id-10\" type=\"checkbox\" ><label for=\"sk-estimator-id-10\" class=\"sk-toggleable__label sk-toggleable__label-arrow\">RandomForestClassifier</label><div class=\"sk-toggleable__content\"><pre>RandomForestClassifier(random_state=42)</pre></div></div></div></div></div></div></div></div></div></div></div></div>"
      ],
      "text/plain": [
       "RandomizedSearchCV(cv=5,\n",
       "                   estimator=Pipeline(steps=[('preprocessor',\n",
       "                                              ColumnTransformer(transformers=[('num',\n",
       "                                                                               StandardScaler(),\n",
       "                                                                               <function dynamic_column_selector.<locals>.column_selector at 0x000002441219F9C0>),\n",
       "                                                                              ('cat',\n",
       "                                                                               OneHotEncoder(handle_unknown='ignore'),\n",
       "                                                                               <function dynamic_column_selector.<locals>.column_selector at 0x000002441219D620>),\n",
       "                                                                              ('impute',\n",
       "                                                                               SimpleImputer(),\n",
       "                                                                               <function dynamic_column_selector.<locals>.column_selector at 0x000002441219FCE0>)])),\n",
       "                                             ('RF',\n",
       "                                              RandomForestClassifier(random_state=42))]),\n",
       "                   n_iter=100,\n",
       "                   param_distributions={'RF__max_depth': [3, 5],\n",
       "                                        'RF__max_features': ['auto', 'sqrt',\n",
       "                                                             'log2'],\n",
       "                                        'RF__n_estimators': [100, 200]},\n",
       "                   scoring='accuracy', verbose=2)"
      ]
     },
     "execution_count": 13,
     "metadata": {},
     "output_type": "execute_result"
    }
   ],
   "source": [
    "# hyperparameter for Ranndom Forest\n",
    "rf_params = {\n",
    "    'RF__n_estimators': [100, 200],  # Number of trees (random int)\n",
    "    'RF__max_depth': [3, 5],        # Maximum depth (random int)\n",
    "    'RF__max_features': ['auto', 'sqrt', 'log2']  # Feature consideration (choice)\n",
    "}\n",
    "\n",
    "# Set the number of random parameter sets to explore (n_iter)\n",
    "n_iter_search = 100\n",
    "\n",
    "random_search_rf = RandomizedSearchCV(\n",
    "    pipe_rf, rf_params, n_iter=n_iter_search, cv=5, scoring=\"accuracy\", verbose=2\n",
    ")\n",
    "\n",
    "# Fit the RandomizedSearchCV model to your training data\n",
    "random_search_rf.fit(X_train, y_train)"
   ]
  },
  {
   "cell_type": "code",
   "execution_count": 14,
   "metadata": {
    "colab": {
     "base_uri": "https://localhost:8080/"
    },
    "id": "WHw5jV7YxzuZ",
    "outputId": "3d227490-0a31-4754-a25d-4bdd60c4b805"
   },
   "outputs": [
    {
     "name": "stdout",
     "output_type": "stream",
     "text": [
      "0.46923076923076923\n"
     ]
    }
   ],
   "source": [
    "best_random_rf = random_search_rf.best_estimator_\n",
    "random_rf_accuracy = best_random_rf.score(X_test, y_test)\n",
    "print(random_rf_accuracy)"
   ]
  },
  {
   "cell_type": "code",
   "execution_count": 15,
   "metadata": {
    "colab": {
     "base_uri": "https://localhost:8080/",
     "height": 928
    },
    "id": "HVqQzHs_6SAv",
    "outputId": "e205f9b7-05b9-4738-b94a-53c8adabd794"
   },
   "outputs": [
    {
     "name": "stdout",
     "output_type": "stream",
     "text": [
      "Fitting 3 folds for each of 12 candidates, totalling 36 fits\n",
      "[CV] END RF__max_depth=3, RF__max_features=auto, RF__n_estimators=100; total time=   0.1s\n"
     ]
    },
    {
     "name": "stderr",
     "output_type": "stream",
     "text": [
      "C:\\Users\\shall\\Documents\\New folder\\Lib\\site-packages\\sklearn\\model_selection\\_split.py:700: UserWarning: The least populated class in y has only 1 members, which is less than n_splits=3.\n",
      "  warnings.warn(\n"
     ]
    },
    {
     "name": "stdout",
     "output_type": "stream",
     "text": [
      "[CV] END RF__max_depth=3, RF__max_features=auto, RF__n_estimators=100; total time=   0.1s\n",
      "[CV] END RF__max_depth=3, RF__max_features=auto, RF__n_estimators=100; total time=   0.1s\n",
      "[CV] END RF__max_depth=3, RF__max_features=auto, RF__n_estimators=200; total time=   0.2s\n",
      "[CV] END RF__max_depth=3, RF__max_features=auto, RF__n_estimators=200; total time=   0.3s\n",
      "[CV] END RF__max_depth=3, RF__max_features=auto, RF__n_estimators=200; total time=   0.2s\n",
      "[CV] END RF__max_depth=3, RF__max_features=sqrt, RF__n_estimators=100; total time=   0.1s\n",
      "[CV] END RF__max_depth=3, RF__max_features=sqrt, RF__n_estimators=100; total time=   0.1s\n",
      "[CV] END RF__max_depth=3, RF__max_features=sqrt, RF__n_estimators=100; total time=   0.1s\n",
      "[CV] END RF__max_depth=3, RF__max_features=sqrt, RF__n_estimators=200; total time=   0.3s\n",
      "[CV] END RF__max_depth=3, RF__max_features=sqrt, RF__n_estimators=200; total time=   0.2s\n",
      "[CV] END RF__max_depth=3, RF__max_features=sqrt, RF__n_estimators=200; total time=   0.2s\n",
      "[CV] END RF__max_depth=3, RF__max_features=log2, RF__n_estimators=100; total time=   0.1s\n",
      "[CV] END RF__max_depth=3, RF__max_features=log2, RF__n_estimators=100; total time=   0.1s\n",
      "[CV] END RF__max_depth=3, RF__max_features=log2, RF__n_estimators=100; total time=   0.1s\n",
      "[CV] END RF__max_depth=3, RF__max_features=log2, RF__n_estimators=200; total time=   0.2s\n",
      "[CV] END RF__max_depth=3, RF__max_features=log2, RF__n_estimators=200; total time=   0.2s\n",
      "[CV] END RF__max_depth=3, RF__max_features=log2, RF__n_estimators=200; total time=   0.2s\n",
      "[CV] END RF__max_depth=5, RF__max_features=auto, RF__n_estimators=100; total time=   0.1s\n",
      "[CV] END RF__max_depth=5, RF__max_features=auto, RF__n_estimators=100; total time=   0.1s\n",
      "[CV] END RF__max_depth=5, RF__max_features=auto, RF__n_estimators=100; total time=   0.1s\n",
      "[CV] END RF__max_depth=5, RF__max_features=auto, RF__n_estimators=200; total time=   0.2s\n",
      "[CV] END RF__max_depth=5, RF__max_features=auto, RF__n_estimators=200; total time=   0.3s\n",
      "[CV] END RF__max_depth=5, RF__max_features=auto, RF__n_estimators=200; total time=   0.3s\n",
      "[CV] END RF__max_depth=5, RF__max_features=sqrt, RF__n_estimators=100; total time=   0.1s\n",
      "[CV] END RF__max_depth=5, RF__max_features=sqrt, RF__n_estimators=100; total time=   0.1s\n",
      "[CV] END RF__max_depth=5, RF__max_features=sqrt, RF__n_estimators=100; total time=   0.1s\n",
      "[CV] END RF__max_depth=5, RF__max_features=sqrt, RF__n_estimators=200; total time=   0.3s\n",
      "[CV] END RF__max_depth=5, RF__max_features=sqrt, RF__n_estimators=200; total time=   0.3s\n",
      "[CV] END RF__max_depth=5, RF__max_features=sqrt, RF__n_estimators=200; total time=   0.2s\n",
      "[CV] END RF__max_depth=5, RF__max_features=log2, RF__n_estimators=100; total time=   0.0s\n",
      "[CV] END RF__max_depth=5, RF__max_features=log2, RF__n_estimators=100; total time=   0.1s\n",
      "[CV] END RF__max_depth=5, RF__max_features=log2, RF__n_estimators=100; total time=   0.1s\n",
      "[CV] END RF__max_depth=5, RF__max_features=log2, RF__n_estimators=200; total time=   0.2s\n",
      "[CV] END RF__max_depth=5, RF__max_features=log2, RF__n_estimators=200; total time=   0.2s\n",
      "[CV] END RF__max_depth=5, RF__max_features=log2, RF__n_estimators=200; total time=   0.2s\n"
     ]
    },
    {
     "data": {
      "text/html": [
       "<style>#sk-container-id-2 {color: black;background-color: white;}#sk-container-id-2 pre{padding: 0;}#sk-container-id-2 div.sk-toggleable {background-color: white;}#sk-container-id-2 label.sk-toggleable__label {cursor: pointer;display: block;width: 100%;margin-bottom: 0;padding: 0.3em;box-sizing: border-box;text-align: center;}#sk-container-id-2 label.sk-toggleable__label-arrow:before {content: \"▸\";float: left;margin-right: 0.25em;color: #696969;}#sk-container-id-2 label.sk-toggleable__label-arrow:hover:before {color: black;}#sk-container-id-2 div.sk-estimator:hover label.sk-toggleable__label-arrow:before {color: black;}#sk-container-id-2 div.sk-toggleable__content {max-height: 0;max-width: 0;overflow: hidden;text-align: left;background-color: #f0f8ff;}#sk-container-id-2 div.sk-toggleable__content pre {margin: 0.2em;color: black;border-radius: 0.25em;background-color: #f0f8ff;}#sk-container-id-2 input.sk-toggleable__control:checked~div.sk-toggleable__content {max-height: 200px;max-width: 100%;overflow: auto;}#sk-container-id-2 input.sk-toggleable__control:checked~label.sk-toggleable__label-arrow:before {content: \"▾\";}#sk-container-id-2 div.sk-estimator input.sk-toggleable__control:checked~label.sk-toggleable__label {background-color: #d4ebff;}#sk-container-id-2 div.sk-label input.sk-toggleable__control:checked~label.sk-toggleable__label {background-color: #d4ebff;}#sk-container-id-2 input.sk-hidden--visually {border: 0;clip: rect(1px 1px 1px 1px);clip: rect(1px, 1px, 1px, 1px);height: 1px;margin: -1px;overflow: hidden;padding: 0;position: absolute;width: 1px;}#sk-container-id-2 div.sk-estimator {font-family: monospace;background-color: #f0f8ff;border: 1px dotted black;border-radius: 0.25em;box-sizing: border-box;margin-bottom: 0.5em;}#sk-container-id-2 div.sk-estimator:hover {background-color: #d4ebff;}#sk-container-id-2 div.sk-parallel-item::after {content: \"\";width: 100%;border-bottom: 1px solid gray;flex-grow: 1;}#sk-container-id-2 div.sk-label:hover label.sk-toggleable__label {background-color: #d4ebff;}#sk-container-id-2 div.sk-serial::before {content: \"\";position: absolute;border-left: 1px solid gray;box-sizing: border-box;top: 0;bottom: 0;left: 50%;z-index: 0;}#sk-container-id-2 div.sk-serial {display: flex;flex-direction: column;align-items: center;background-color: white;padding-right: 0.2em;padding-left: 0.2em;position: relative;}#sk-container-id-2 div.sk-item {position: relative;z-index: 1;}#sk-container-id-2 div.sk-parallel {display: flex;align-items: stretch;justify-content: center;background-color: white;position: relative;}#sk-container-id-2 div.sk-item::before, #sk-container-id-2 div.sk-parallel-item::before {content: \"\";position: absolute;border-left: 1px solid gray;box-sizing: border-box;top: 0;bottom: 0;left: 50%;z-index: -1;}#sk-container-id-2 div.sk-parallel-item {display: flex;flex-direction: column;z-index: 1;position: relative;background-color: white;}#sk-container-id-2 div.sk-parallel-item:first-child::after {align-self: flex-end;width: 50%;}#sk-container-id-2 div.sk-parallel-item:last-child::after {align-self: flex-start;width: 50%;}#sk-container-id-2 div.sk-parallel-item:only-child::after {width: 0;}#sk-container-id-2 div.sk-dashed-wrapped {border: 1px dashed gray;margin: 0 0.4em 0.5em 0.4em;box-sizing: border-box;padding-bottom: 0.4em;background-color: white;}#sk-container-id-2 div.sk-label label {font-family: monospace;font-weight: bold;display: inline-block;line-height: 1.2em;}#sk-container-id-2 div.sk-label-container {text-align: center;}#sk-container-id-2 div.sk-container {/* jupyter's `normalize.less` sets `[hidden] { display: none; }` but bootstrap.min.css set `[hidden] { display: none !important; }` so we also need the `!important` here to be able to override the default hidden behavior on the sphinx rendered scikit-learn.org. See: https://github.com/scikit-learn/scikit-learn/issues/21755 */display: inline-block !important;position: relative;}#sk-container-id-2 div.sk-text-repr-fallback {display: none;}</style><div id=\"sk-container-id-2\" class=\"sk-top-container\"><div class=\"sk-text-repr-fallback\"><pre>GridSearchCV(cv=3,\n",
       "             estimator=Pipeline(steps=[(&#x27;preprocessor&#x27;,\n",
       "                                        ColumnTransformer(transformers=[(&#x27;num&#x27;,\n",
       "                                                                         StandardScaler(),\n",
       "                                                                         &lt;function dynamic_column_selector.&lt;locals&gt;.column_selector at 0x000002441219F9C0&gt;),\n",
       "                                                                        (&#x27;cat&#x27;,\n",
       "                                                                         OneHotEncoder(handle_unknown=&#x27;ignore&#x27;),\n",
       "                                                                         &lt;function dynamic_column_selector.&lt;locals&gt;.column_selector at 0x000002441219D620&gt;),\n",
       "                                                                        (&#x27;impute&#x27;,\n",
       "                                                                         SimpleImputer(),\n",
       "                                                                         &lt;function dynamic_column_selector.&lt;locals&gt;.column_selector at 0x000002441219FCE0&gt;)])),\n",
       "                                       (&#x27;RF&#x27;,\n",
       "                                        RandomForestClassifier(random_state=42))]),\n",
       "             param_grid={&#x27;RF__max_depth&#x27;: [3, 5],\n",
       "                         &#x27;RF__max_features&#x27;: [&#x27;auto&#x27;, &#x27;sqrt&#x27;, &#x27;log2&#x27;],\n",
       "                         &#x27;RF__n_estimators&#x27;: [100, 200]},\n",
       "             scoring=&#x27;accuracy&#x27;, verbose=2)</pre><b>In a Jupyter environment, please rerun this cell to show the HTML representation or trust the notebook. <br />On GitHub, the HTML representation is unable to render, please try loading this page with nbviewer.org.</b></div><div class=\"sk-container\" hidden><div class=\"sk-item sk-dashed-wrapped\"><div class=\"sk-label-container\"><div class=\"sk-label sk-toggleable\"><input class=\"sk-toggleable__control sk-hidden--visually\" id=\"sk-estimator-id-11\" type=\"checkbox\" ><label for=\"sk-estimator-id-11\" class=\"sk-toggleable__label sk-toggleable__label-arrow\">GridSearchCV</label><div class=\"sk-toggleable__content\"><pre>GridSearchCV(cv=3,\n",
       "             estimator=Pipeline(steps=[(&#x27;preprocessor&#x27;,\n",
       "                                        ColumnTransformer(transformers=[(&#x27;num&#x27;,\n",
       "                                                                         StandardScaler(),\n",
       "                                                                         &lt;function dynamic_column_selector.&lt;locals&gt;.column_selector at 0x000002441219F9C0&gt;),\n",
       "                                                                        (&#x27;cat&#x27;,\n",
       "                                                                         OneHotEncoder(handle_unknown=&#x27;ignore&#x27;),\n",
       "                                                                         &lt;function dynamic_column_selector.&lt;locals&gt;.column_selector at 0x000002441219D620&gt;),\n",
       "                                                                        (&#x27;impute&#x27;,\n",
       "                                                                         SimpleImputer(),\n",
       "                                                                         &lt;function dynamic_column_selector.&lt;locals&gt;.column_selector at 0x000002441219FCE0&gt;)])),\n",
       "                                       (&#x27;RF&#x27;,\n",
       "                                        RandomForestClassifier(random_state=42))]),\n",
       "             param_grid={&#x27;RF__max_depth&#x27;: [3, 5],\n",
       "                         &#x27;RF__max_features&#x27;: [&#x27;auto&#x27;, &#x27;sqrt&#x27;, &#x27;log2&#x27;],\n",
       "                         &#x27;RF__n_estimators&#x27;: [100, 200]},\n",
       "             scoring=&#x27;accuracy&#x27;, verbose=2)</pre></div></div></div><div class=\"sk-parallel\"><div class=\"sk-parallel-item\"><div class=\"sk-item\"><div class=\"sk-label-container\"><div class=\"sk-label sk-toggleable\"><input class=\"sk-toggleable__control sk-hidden--visually\" id=\"sk-estimator-id-12\" type=\"checkbox\" ><label for=\"sk-estimator-id-12\" class=\"sk-toggleable__label sk-toggleable__label-arrow\">estimator: Pipeline</label><div class=\"sk-toggleable__content\"><pre>Pipeline(steps=[(&#x27;preprocessor&#x27;,\n",
       "                 ColumnTransformer(transformers=[(&#x27;num&#x27;, StandardScaler(),\n",
       "                                                  &lt;function dynamic_column_selector.&lt;locals&gt;.column_selector at 0x000002441219F9C0&gt;),\n",
       "                                                 (&#x27;cat&#x27;,\n",
       "                                                  OneHotEncoder(handle_unknown=&#x27;ignore&#x27;),\n",
       "                                                  &lt;function dynamic_column_selector.&lt;locals&gt;.column_selector at 0x000002441219D620&gt;),\n",
       "                                                 (&#x27;impute&#x27;, SimpleImputer(),\n",
       "                                                  &lt;function dynamic_column_selector.&lt;locals&gt;.column_selector at 0x000002441219FCE0&gt;)])),\n",
       "                (&#x27;RF&#x27;, RandomForestClassifier(random_state=42))])</pre></div></div></div><div class=\"sk-serial\"><div class=\"sk-item\"><div class=\"sk-serial\"><div class=\"sk-item sk-dashed-wrapped\"><div class=\"sk-label-container\"><div class=\"sk-label sk-toggleable\"><input class=\"sk-toggleable__control sk-hidden--visually\" id=\"sk-estimator-id-13\" type=\"checkbox\" ><label for=\"sk-estimator-id-13\" class=\"sk-toggleable__label sk-toggleable__label-arrow\">preprocessor: ColumnTransformer</label><div class=\"sk-toggleable__content\"><pre>ColumnTransformer(transformers=[(&#x27;num&#x27;, StandardScaler(),\n",
       "                                 &lt;function dynamic_column_selector.&lt;locals&gt;.column_selector at 0x000002441219F9C0&gt;),\n",
       "                                (&#x27;cat&#x27;, OneHotEncoder(handle_unknown=&#x27;ignore&#x27;),\n",
       "                                 &lt;function dynamic_column_selector.&lt;locals&gt;.column_selector at 0x000002441219D620&gt;),\n",
       "                                (&#x27;impute&#x27;, SimpleImputer(),\n",
       "                                 &lt;function dynamic_column_selector.&lt;locals&gt;.column_selector at 0x000002441219FCE0&gt;)])</pre></div></div></div><div class=\"sk-parallel\"><div class=\"sk-parallel-item\"><div class=\"sk-item\"><div class=\"sk-label-container\"><div class=\"sk-label sk-toggleable\"><input class=\"sk-toggleable__control sk-hidden--visually\" id=\"sk-estimator-id-14\" type=\"checkbox\" ><label for=\"sk-estimator-id-14\" class=\"sk-toggleable__label sk-toggleable__label-arrow\">num</label><div class=\"sk-toggleable__content\"><pre>&lt;function dynamic_column_selector.&lt;locals&gt;.column_selector at 0x000002441219F9C0&gt;</pre></div></div></div><div class=\"sk-serial\"><div class=\"sk-item\"><div class=\"sk-estimator sk-toggleable\"><input class=\"sk-toggleable__control sk-hidden--visually\" id=\"sk-estimator-id-15\" type=\"checkbox\" ><label for=\"sk-estimator-id-15\" class=\"sk-toggleable__label sk-toggleable__label-arrow\">StandardScaler</label><div class=\"sk-toggleable__content\"><pre>StandardScaler()</pre></div></div></div></div></div></div><div class=\"sk-parallel-item\"><div class=\"sk-item\"><div class=\"sk-label-container\"><div class=\"sk-label sk-toggleable\"><input class=\"sk-toggleable__control sk-hidden--visually\" id=\"sk-estimator-id-16\" type=\"checkbox\" ><label for=\"sk-estimator-id-16\" class=\"sk-toggleable__label sk-toggleable__label-arrow\">cat</label><div class=\"sk-toggleable__content\"><pre>&lt;function dynamic_column_selector.&lt;locals&gt;.column_selector at 0x000002441219D620&gt;</pre></div></div></div><div class=\"sk-serial\"><div class=\"sk-item\"><div class=\"sk-estimator sk-toggleable\"><input class=\"sk-toggleable__control sk-hidden--visually\" id=\"sk-estimator-id-17\" type=\"checkbox\" ><label for=\"sk-estimator-id-17\" class=\"sk-toggleable__label sk-toggleable__label-arrow\">OneHotEncoder</label><div class=\"sk-toggleable__content\"><pre>OneHotEncoder(handle_unknown=&#x27;ignore&#x27;)</pre></div></div></div></div></div></div><div class=\"sk-parallel-item\"><div class=\"sk-item\"><div class=\"sk-label-container\"><div class=\"sk-label sk-toggleable\"><input class=\"sk-toggleable__control sk-hidden--visually\" id=\"sk-estimator-id-18\" type=\"checkbox\" ><label for=\"sk-estimator-id-18\" class=\"sk-toggleable__label sk-toggleable__label-arrow\">impute</label><div class=\"sk-toggleable__content\"><pre>&lt;function dynamic_column_selector.&lt;locals&gt;.column_selector at 0x000002441219FCE0&gt;</pre></div></div></div><div class=\"sk-serial\"><div class=\"sk-item\"><div class=\"sk-estimator sk-toggleable\"><input class=\"sk-toggleable__control sk-hidden--visually\" id=\"sk-estimator-id-19\" type=\"checkbox\" ><label for=\"sk-estimator-id-19\" class=\"sk-toggleable__label sk-toggleable__label-arrow\">SimpleImputer</label><div class=\"sk-toggleable__content\"><pre>SimpleImputer()</pre></div></div></div></div></div></div></div></div><div class=\"sk-item\"><div class=\"sk-estimator sk-toggleable\"><input class=\"sk-toggleable__control sk-hidden--visually\" id=\"sk-estimator-id-20\" type=\"checkbox\" ><label for=\"sk-estimator-id-20\" class=\"sk-toggleable__label sk-toggleable__label-arrow\">RandomForestClassifier</label><div class=\"sk-toggleable__content\"><pre>RandomForestClassifier(random_state=42)</pre></div></div></div></div></div></div></div></div></div></div></div></div>"
      ],
      "text/plain": [
       "GridSearchCV(cv=3,\n",
       "             estimator=Pipeline(steps=[('preprocessor',\n",
       "                                        ColumnTransformer(transformers=[('num',\n",
       "                                                                         StandardScaler(),\n",
       "                                                                         <function dynamic_column_selector.<locals>.column_selector at 0x000002441219F9C0>),\n",
       "                                                                        ('cat',\n",
       "                                                                         OneHotEncoder(handle_unknown='ignore'),\n",
       "                                                                         <function dynamic_column_selector.<locals>.column_selector at 0x000002441219D620>),\n",
       "                                                                        ('impute',\n",
       "                                                                         SimpleImputer(),\n",
       "                                                                         <function dynamic_column_selector.<locals>.column_selector at 0x000002441219FCE0>)])),\n",
       "                                       ('RF',\n",
       "                                        RandomForestClassifier(random_state=42))]),\n",
       "             param_grid={'RF__max_depth': [3, 5],\n",
       "                         'RF__max_features': ['auto', 'sqrt', 'log2'],\n",
       "                         'RF__n_estimators': [100, 200]},\n",
       "             scoring='accuracy', verbose=2)"
      ]
     },
     "execution_count": 15,
     "metadata": {},
     "output_type": "execute_result"
    }
   ],
   "source": [
    "# Implenting GridSearchCV for Random Forest\n",
    "grid_search_rf = GridSearchCV(pipe_rf, rf_params, cv=3, scoring=\"accuracy\", verbose =2)\n",
    "grid_search_rf.fit(X_train, y_train)"
   ]
  },
  {
   "cell_type": "code",
   "execution_count": 16,
   "metadata": {
    "colab": {
     "base_uri": "https://localhost:8080/"
    },
    "id": "o86S8KDC6ee4",
    "outputId": "32544eea-20c1-4003-adb1-8aeabf4dbe30"
   },
   "outputs": [
    {
     "name": "stdout",
     "output_type": "stream",
     "text": [
      "0.4461538461538462\n"
     ]
    }
   ],
   "source": [
    "best_grid_rf = grid_search_rf.best_estimator_\n",
    "grid_rf_accuracy = best_grid_rf.score(X_test, y_test)\n",
    "print(grid_rf_accuracy)"
   ]
  },
  {
   "cell_type": "markdown",
   "metadata": {
    "id": "ttBvCfiE5099"
   },
   "source": [
    "###Decision Tree Optimization"
   ]
  },
  {
   "cell_type": "code",
   "execution_count": 17,
   "metadata": {
    "colab": {
     "base_uri": "https://localhost:8080/",
     "height": 1000
    },
    "id": "BZltfEpc5xly",
    "outputId": "3f2fedec-3788-4c79-cfd3-0c218a797228"
   },
   "outputs": [
    {
     "name": "stdout",
     "output_type": "stream",
     "text": [
      "Fitting 5 folds for each of 9 candidates, totalling 45 fits\n",
      "[CV] END ............DT__max_depth=2, DT__min_samples_leaf=2; total time=   0.0s\n",
      "[CV] END ............DT__max_depth=2, DT__min_samples_leaf=2; total time=   0.0s\n",
      "[CV] END ............DT__max_depth=2, DT__min_samples_leaf=2; total time=   0.0s\n",
      "[CV] END ............DT__max_depth=2, DT__min_samples_leaf=2; total time=   0.0s\n",
      "[CV] END ............DT__max_depth=2, DT__min_samples_leaf=2; total time=   0.0s\n",
      "[CV] END ............DT__max_depth=2, DT__min_samples_leaf=4; total time=   0.0s\n",
      "[CV] END ............DT__max_depth=2, DT__min_samples_leaf=4; total time=   0.0s\n",
      "[CV] END ............DT__max_depth=2, DT__min_samples_leaf=4; total time=   0.0s\n"
     ]
    },
    {
     "name": "stderr",
     "output_type": "stream",
     "text": [
      "C:\\Users\\shall\\Documents\\New folder\\Lib\\site-packages\\sklearn\\model_selection\\_search.py:305: UserWarning: The total space of parameters 9 is smaller than n_iter=10. Running 9 iterations. For exhaustive searches, use GridSearchCV.\n",
      "  warnings.warn(\n",
      "C:\\Users\\shall\\Documents\\New folder\\Lib\\site-packages\\sklearn\\model_selection\\_split.py:700: UserWarning: The least populated class in y has only 1 members, which is less than n_splits=5.\n",
      "  warnings.warn(\n"
     ]
    },
    {
     "name": "stdout",
     "output_type": "stream",
     "text": [
      "[CV] END ............DT__max_depth=2, DT__min_samples_leaf=4; total time=   0.0s\n",
      "[CV] END ............DT__max_depth=2, DT__min_samples_leaf=4; total time=   0.0s\n",
      "[CV] END ............DT__max_depth=2, DT__min_samples_leaf=6; total time=   0.0s\n",
      "[CV] END ............DT__max_depth=2, DT__min_samples_leaf=6; total time=   0.0s\n",
      "[CV] END ............DT__max_depth=2, DT__min_samples_leaf=6; total time=   0.0s\n",
      "[CV] END ............DT__max_depth=2, DT__min_samples_leaf=6; total time=   0.0s\n",
      "[CV] END ............DT__max_depth=2, DT__min_samples_leaf=6; total time=   0.0s\n",
      "[CV] END ............DT__max_depth=4, DT__min_samples_leaf=2; total time=   0.0s\n",
      "[CV] END ............DT__max_depth=4, DT__min_samples_leaf=2; total time=   0.0s\n",
      "[CV] END ............DT__max_depth=4, DT__min_samples_leaf=2; total time=   0.0s\n",
      "[CV] END ............DT__max_depth=4, DT__min_samples_leaf=2; total time=   0.0s\n",
      "[CV] END ............DT__max_depth=4, DT__min_samples_leaf=2; total time=   0.0s\n",
      "[CV] END ............DT__max_depth=4, DT__min_samples_leaf=4; total time=   0.0s\n",
      "[CV] END ............DT__max_depth=4, DT__min_samples_leaf=4; total time=   0.0s\n",
      "[CV] END ............DT__max_depth=4, DT__min_samples_leaf=4; total time=   0.0s\n",
      "[CV] END ............DT__max_depth=4, DT__min_samples_leaf=4; total time=   0.0s\n",
      "[CV] END ............DT__max_depth=4, DT__min_samples_leaf=4; total time=   0.0s\n",
      "[CV] END ............DT__max_depth=4, DT__min_samples_leaf=6; total time=   0.0s\n",
      "[CV] END ............DT__max_depth=4, DT__min_samples_leaf=6; total time=   0.0s\n",
      "[CV] END ............DT__max_depth=4, DT__min_samples_leaf=6; total time=   0.0s\n",
      "[CV] END ............DT__max_depth=4, DT__min_samples_leaf=6; total time=   0.0s\n",
      "[CV] END ............DT__max_depth=4, DT__min_samples_leaf=6; total time=   0.0s\n",
      "[CV] END ............DT__max_depth=6, DT__min_samples_leaf=2; total time=   0.0s\n",
      "[CV] END ............DT__max_depth=6, DT__min_samples_leaf=2; total time=   0.0s\n",
      "[CV] END ............DT__max_depth=6, DT__min_samples_leaf=2; total time=   0.0s\n",
      "[CV] END ............DT__max_depth=6, DT__min_samples_leaf=2; total time=   0.0s\n",
      "[CV] END ............DT__max_depth=6, DT__min_samples_leaf=2; total time=   0.0s\n",
      "[CV] END ............DT__max_depth=6, DT__min_samples_leaf=4; total time=   0.0s\n",
      "[CV] END ............DT__max_depth=6, DT__min_samples_leaf=4; total time=   0.0s\n",
      "[CV] END ............DT__max_depth=6, DT__min_samples_leaf=4; total time=   0.0s\n",
      "[CV] END ............DT__max_depth=6, DT__min_samples_leaf=4; total time=   0.0s\n",
      "[CV] END ............DT__max_depth=6, DT__min_samples_leaf=4; total time=   0.0s\n",
      "[CV] END ............DT__max_depth=6, DT__min_samples_leaf=6; total time=   0.0s\n",
      "[CV] END ............DT__max_depth=6, DT__min_samples_leaf=6; total time=   0.0s\n",
      "[CV] END ............DT__max_depth=6, DT__min_samples_leaf=6; total time=   0.0s\n",
      "[CV] END ............DT__max_depth=6, DT__min_samples_leaf=6; total time=   0.0s\n",
      "[CV] END ............DT__max_depth=6, DT__min_samples_leaf=6; total time=   0.0s\n"
     ]
    },
    {
     "data": {
      "text/html": [
       "<style>#sk-container-id-3 {color: black;background-color: white;}#sk-container-id-3 pre{padding: 0;}#sk-container-id-3 div.sk-toggleable {background-color: white;}#sk-container-id-3 label.sk-toggleable__label {cursor: pointer;display: block;width: 100%;margin-bottom: 0;padding: 0.3em;box-sizing: border-box;text-align: center;}#sk-container-id-3 label.sk-toggleable__label-arrow:before {content: \"▸\";float: left;margin-right: 0.25em;color: #696969;}#sk-container-id-3 label.sk-toggleable__label-arrow:hover:before {color: black;}#sk-container-id-3 div.sk-estimator:hover label.sk-toggleable__label-arrow:before {color: black;}#sk-container-id-3 div.sk-toggleable__content {max-height: 0;max-width: 0;overflow: hidden;text-align: left;background-color: #f0f8ff;}#sk-container-id-3 div.sk-toggleable__content pre {margin: 0.2em;color: black;border-radius: 0.25em;background-color: #f0f8ff;}#sk-container-id-3 input.sk-toggleable__control:checked~div.sk-toggleable__content {max-height: 200px;max-width: 100%;overflow: auto;}#sk-container-id-3 input.sk-toggleable__control:checked~label.sk-toggleable__label-arrow:before {content: \"▾\";}#sk-container-id-3 div.sk-estimator input.sk-toggleable__control:checked~label.sk-toggleable__label {background-color: #d4ebff;}#sk-container-id-3 div.sk-label input.sk-toggleable__control:checked~label.sk-toggleable__label {background-color: #d4ebff;}#sk-container-id-3 input.sk-hidden--visually {border: 0;clip: rect(1px 1px 1px 1px);clip: rect(1px, 1px, 1px, 1px);height: 1px;margin: -1px;overflow: hidden;padding: 0;position: absolute;width: 1px;}#sk-container-id-3 div.sk-estimator {font-family: monospace;background-color: #f0f8ff;border: 1px dotted black;border-radius: 0.25em;box-sizing: border-box;margin-bottom: 0.5em;}#sk-container-id-3 div.sk-estimator:hover {background-color: #d4ebff;}#sk-container-id-3 div.sk-parallel-item::after {content: \"\";width: 100%;border-bottom: 1px solid gray;flex-grow: 1;}#sk-container-id-3 div.sk-label:hover label.sk-toggleable__label {background-color: #d4ebff;}#sk-container-id-3 div.sk-serial::before {content: \"\";position: absolute;border-left: 1px solid gray;box-sizing: border-box;top: 0;bottom: 0;left: 50%;z-index: 0;}#sk-container-id-3 div.sk-serial {display: flex;flex-direction: column;align-items: center;background-color: white;padding-right: 0.2em;padding-left: 0.2em;position: relative;}#sk-container-id-3 div.sk-item {position: relative;z-index: 1;}#sk-container-id-3 div.sk-parallel {display: flex;align-items: stretch;justify-content: center;background-color: white;position: relative;}#sk-container-id-3 div.sk-item::before, #sk-container-id-3 div.sk-parallel-item::before {content: \"\";position: absolute;border-left: 1px solid gray;box-sizing: border-box;top: 0;bottom: 0;left: 50%;z-index: -1;}#sk-container-id-3 div.sk-parallel-item {display: flex;flex-direction: column;z-index: 1;position: relative;background-color: white;}#sk-container-id-3 div.sk-parallel-item:first-child::after {align-self: flex-end;width: 50%;}#sk-container-id-3 div.sk-parallel-item:last-child::after {align-self: flex-start;width: 50%;}#sk-container-id-3 div.sk-parallel-item:only-child::after {width: 0;}#sk-container-id-3 div.sk-dashed-wrapped {border: 1px dashed gray;margin: 0 0.4em 0.5em 0.4em;box-sizing: border-box;padding-bottom: 0.4em;background-color: white;}#sk-container-id-3 div.sk-label label {font-family: monospace;font-weight: bold;display: inline-block;line-height: 1.2em;}#sk-container-id-3 div.sk-label-container {text-align: center;}#sk-container-id-3 div.sk-container {/* jupyter's `normalize.less` sets `[hidden] { display: none; }` but bootstrap.min.css set `[hidden] { display: none !important; }` so we also need the `!important` here to be able to override the default hidden behavior on the sphinx rendered scikit-learn.org. See: https://github.com/scikit-learn/scikit-learn/issues/21755 */display: inline-block !important;position: relative;}#sk-container-id-3 div.sk-text-repr-fallback {display: none;}</style><div id=\"sk-container-id-3\" class=\"sk-top-container\"><div class=\"sk-text-repr-fallback\"><pre>RandomizedSearchCV(cv=5,\n",
       "                   estimator=Pipeline(steps=[(&#x27;preprocessor&#x27;,\n",
       "                                              ColumnTransformer(transformers=[(&#x27;num&#x27;,\n",
       "                                                                               StandardScaler(),\n",
       "                                                                               &lt;function dynamic_column_selector.&lt;locals&gt;.column_selector at 0x000002441219F9C0&gt;),\n",
       "                                                                              (&#x27;cat&#x27;,\n",
       "                                                                               OneHotEncoder(handle_unknown=&#x27;ignore&#x27;),\n",
       "                                                                               &lt;function dynamic_column_selector.&lt;locals&gt;.column_selector at 0x000002441219D620&gt;),\n",
       "                                                                              (&#x27;impute&#x27;,\n",
       "                                                                               SimpleImputer(),\n",
       "                                                                               &lt;function dynamic_column_selector.&lt;locals&gt;.column_selector at 0x000002441219FCE0&gt;)])),\n",
       "                                             (&#x27;DT&#x27;,\n",
       "                                              DecisionTreeClassifier(random_state=42))]),\n",
       "                   param_distributions={&#x27;DT__max_depth&#x27;: [2, 4, 6],\n",
       "                                        &#x27;DT__min_samples_leaf&#x27;: [2, 4, 6]},\n",
       "                   scoring=&#x27;accuracy&#x27;, verbose=2)</pre><b>In a Jupyter environment, please rerun this cell to show the HTML representation or trust the notebook. <br />On GitHub, the HTML representation is unable to render, please try loading this page with nbviewer.org.</b></div><div class=\"sk-container\" hidden><div class=\"sk-item sk-dashed-wrapped\"><div class=\"sk-label-container\"><div class=\"sk-label sk-toggleable\"><input class=\"sk-toggleable__control sk-hidden--visually\" id=\"sk-estimator-id-21\" type=\"checkbox\" ><label for=\"sk-estimator-id-21\" class=\"sk-toggleable__label sk-toggleable__label-arrow\">RandomizedSearchCV</label><div class=\"sk-toggleable__content\"><pre>RandomizedSearchCV(cv=5,\n",
       "                   estimator=Pipeline(steps=[(&#x27;preprocessor&#x27;,\n",
       "                                              ColumnTransformer(transformers=[(&#x27;num&#x27;,\n",
       "                                                                               StandardScaler(),\n",
       "                                                                               &lt;function dynamic_column_selector.&lt;locals&gt;.column_selector at 0x000002441219F9C0&gt;),\n",
       "                                                                              (&#x27;cat&#x27;,\n",
       "                                                                               OneHotEncoder(handle_unknown=&#x27;ignore&#x27;),\n",
       "                                                                               &lt;function dynamic_column_selector.&lt;locals&gt;.column_selector at 0x000002441219D620&gt;),\n",
       "                                                                              (&#x27;impute&#x27;,\n",
       "                                                                               SimpleImputer(),\n",
       "                                                                               &lt;function dynamic_column_selector.&lt;locals&gt;.column_selector at 0x000002441219FCE0&gt;)])),\n",
       "                                             (&#x27;DT&#x27;,\n",
       "                                              DecisionTreeClassifier(random_state=42))]),\n",
       "                   param_distributions={&#x27;DT__max_depth&#x27;: [2, 4, 6],\n",
       "                                        &#x27;DT__min_samples_leaf&#x27;: [2, 4, 6]},\n",
       "                   scoring=&#x27;accuracy&#x27;, verbose=2)</pre></div></div></div><div class=\"sk-parallel\"><div class=\"sk-parallel-item\"><div class=\"sk-item\"><div class=\"sk-label-container\"><div class=\"sk-label sk-toggleable\"><input class=\"sk-toggleable__control sk-hidden--visually\" id=\"sk-estimator-id-22\" type=\"checkbox\" ><label for=\"sk-estimator-id-22\" class=\"sk-toggleable__label sk-toggleable__label-arrow\">estimator: Pipeline</label><div class=\"sk-toggleable__content\"><pre>Pipeline(steps=[(&#x27;preprocessor&#x27;,\n",
       "                 ColumnTransformer(transformers=[(&#x27;num&#x27;, StandardScaler(),\n",
       "                                                  &lt;function dynamic_column_selector.&lt;locals&gt;.column_selector at 0x000002441219F9C0&gt;),\n",
       "                                                 (&#x27;cat&#x27;,\n",
       "                                                  OneHotEncoder(handle_unknown=&#x27;ignore&#x27;),\n",
       "                                                  &lt;function dynamic_column_selector.&lt;locals&gt;.column_selector at 0x000002441219D620&gt;),\n",
       "                                                 (&#x27;impute&#x27;, SimpleImputer(),\n",
       "                                                  &lt;function dynamic_column_selector.&lt;locals&gt;.column_selector at 0x000002441219FCE0&gt;)])),\n",
       "                (&#x27;DT&#x27;, DecisionTreeClassifier(random_state=42))])</pre></div></div></div><div class=\"sk-serial\"><div class=\"sk-item\"><div class=\"sk-serial\"><div class=\"sk-item sk-dashed-wrapped\"><div class=\"sk-label-container\"><div class=\"sk-label sk-toggleable\"><input class=\"sk-toggleable__control sk-hidden--visually\" id=\"sk-estimator-id-23\" type=\"checkbox\" ><label for=\"sk-estimator-id-23\" class=\"sk-toggleable__label sk-toggleable__label-arrow\">preprocessor: ColumnTransformer</label><div class=\"sk-toggleable__content\"><pre>ColumnTransformer(transformers=[(&#x27;num&#x27;, StandardScaler(),\n",
       "                                 &lt;function dynamic_column_selector.&lt;locals&gt;.column_selector at 0x000002441219F9C0&gt;),\n",
       "                                (&#x27;cat&#x27;, OneHotEncoder(handle_unknown=&#x27;ignore&#x27;),\n",
       "                                 &lt;function dynamic_column_selector.&lt;locals&gt;.column_selector at 0x000002441219D620&gt;),\n",
       "                                (&#x27;impute&#x27;, SimpleImputer(),\n",
       "                                 &lt;function dynamic_column_selector.&lt;locals&gt;.column_selector at 0x000002441219FCE0&gt;)])</pre></div></div></div><div class=\"sk-parallel\"><div class=\"sk-parallel-item\"><div class=\"sk-item\"><div class=\"sk-label-container\"><div class=\"sk-label sk-toggleable\"><input class=\"sk-toggleable__control sk-hidden--visually\" id=\"sk-estimator-id-24\" type=\"checkbox\" ><label for=\"sk-estimator-id-24\" class=\"sk-toggleable__label sk-toggleable__label-arrow\">num</label><div class=\"sk-toggleable__content\"><pre>&lt;function dynamic_column_selector.&lt;locals&gt;.column_selector at 0x000002441219F9C0&gt;</pre></div></div></div><div class=\"sk-serial\"><div class=\"sk-item\"><div class=\"sk-estimator sk-toggleable\"><input class=\"sk-toggleable__control sk-hidden--visually\" id=\"sk-estimator-id-25\" type=\"checkbox\" ><label for=\"sk-estimator-id-25\" class=\"sk-toggleable__label sk-toggleable__label-arrow\">StandardScaler</label><div class=\"sk-toggleable__content\"><pre>StandardScaler()</pre></div></div></div></div></div></div><div class=\"sk-parallel-item\"><div class=\"sk-item\"><div class=\"sk-label-container\"><div class=\"sk-label sk-toggleable\"><input class=\"sk-toggleable__control sk-hidden--visually\" id=\"sk-estimator-id-26\" type=\"checkbox\" ><label for=\"sk-estimator-id-26\" class=\"sk-toggleable__label sk-toggleable__label-arrow\">cat</label><div class=\"sk-toggleable__content\"><pre>&lt;function dynamic_column_selector.&lt;locals&gt;.column_selector at 0x000002441219D620&gt;</pre></div></div></div><div class=\"sk-serial\"><div class=\"sk-item\"><div class=\"sk-estimator sk-toggleable\"><input class=\"sk-toggleable__control sk-hidden--visually\" id=\"sk-estimator-id-27\" type=\"checkbox\" ><label for=\"sk-estimator-id-27\" class=\"sk-toggleable__label sk-toggleable__label-arrow\">OneHotEncoder</label><div class=\"sk-toggleable__content\"><pre>OneHotEncoder(handle_unknown=&#x27;ignore&#x27;)</pre></div></div></div></div></div></div><div class=\"sk-parallel-item\"><div class=\"sk-item\"><div class=\"sk-label-container\"><div class=\"sk-label sk-toggleable\"><input class=\"sk-toggleable__control sk-hidden--visually\" id=\"sk-estimator-id-28\" type=\"checkbox\" ><label for=\"sk-estimator-id-28\" class=\"sk-toggleable__label sk-toggleable__label-arrow\">impute</label><div class=\"sk-toggleable__content\"><pre>&lt;function dynamic_column_selector.&lt;locals&gt;.column_selector at 0x000002441219FCE0&gt;</pre></div></div></div><div class=\"sk-serial\"><div class=\"sk-item\"><div class=\"sk-estimator sk-toggleable\"><input class=\"sk-toggleable__control sk-hidden--visually\" id=\"sk-estimator-id-29\" type=\"checkbox\" ><label for=\"sk-estimator-id-29\" class=\"sk-toggleable__label sk-toggleable__label-arrow\">SimpleImputer</label><div class=\"sk-toggleable__content\"><pre>SimpleImputer()</pre></div></div></div></div></div></div></div></div><div class=\"sk-item\"><div class=\"sk-estimator sk-toggleable\"><input class=\"sk-toggleable__control sk-hidden--visually\" id=\"sk-estimator-id-30\" type=\"checkbox\" ><label for=\"sk-estimator-id-30\" class=\"sk-toggleable__label sk-toggleable__label-arrow\">DecisionTreeClassifier</label><div class=\"sk-toggleable__content\"><pre>DecisionTreeClassifier(random_state=42)</pre></div></div></div></div></div></div></div></div></div></div></div></div>"
      ],
      "text/plain": [
       "RandomizedSearchCV(cv=5,\n",
       "                   estimator=Pipeline(steps=[('preprocessor',\n",
       "                                              ColumnTransformer(transformers=[('num',\n",
       "                                                                               StandardScaler(),\n",
       "                                                                               <function dynamic_column_selector.<locals>.column_selector at 0x000002441219F9C0>),\n",
       "                                                                              ('cat',\n",
       "                                                                               OneHotEncoder(handle_unknown='ignore'),\n",
       "                                                                               <function dynamic_column_selector.<locals>.column_selector at 0x000002441219D620>),\n",
       "                                                                              ('impute',\n",
       "                                                                               SimpleImputer(),\n",
       "                                                                               <function dynamic_column_selector.<locals>.column_selector at 0x000002441219FCE0>)])),\n",
       "                                             ('DT',\n",
       "                                              DecisionTreeClassifier(random_state=42))]),\n",
       "                   param_distributions={'DT__max_depth': [2, 4, 6],\n",
       "                                        'DT__min_samples_leaf': [2, 4, 6]},\n",
       "                   scoring='accuracy', verbose=2)"
      ]
     },
     "execution_count": 17,
     "metadata": {},
     "output_type": "execute_result"
    }
   ],
   "source": [
    "# hyperparameter for Decision Tree\n",
    "dt_params = {\n",
    "    'DT__max_depth': [2, 4, 6],\n",
    "    'DT__min_samples_leaf': [2, 4, 6],\n",
    "}\n",
    "\n",
    "\n",
    "random_search_dt = RandomizedSearchCV(\n",
    "    pipe_dt, dt_params, cv=5, scoring=\"accuracy\", verbose=2\n",
    ")\n",
    "\n",
    "# Fit the RandomizedSearchCV model to your training data\n",
    "random_search_dt.fit(X_train, y_train)"
   ]
  },
  {
   "cell_type": "code",
   "execution_count": 18,
   "metadata": {
    "colab": {
     "base_uri": "https://localhost:8080/"
    },
    "id": "VFllgAFD6BDH",
    "outputId": "b239f86c-db50-429f-ed93-a05f8df3cdb9"
   },
   "outputs": [
    {
     "name": "stdout",
     "output_type": "stream",
     "text": [
      "0.45384615384615384\n"
     ]
    }
   ],
   "source": [
    "best_random_dt = random_search_dt.best_estimator_\n",
    "random_dt_accuracy = best_random_dt.score(X_test, y_test)\n",
    "print(random_dt_accuracy)"
   ]
  },
  {
   "cell_type": "code",
   "execution_count": 19,
   "metadata": {
    "colab": {
     "base_uri": "https://localhost:8080/",
     "height": 764
    },
    "id": "1igPhvwR6KL2",
    "outputId": "538d178f-eb89-4e0c-90a6-4b50207a71f0"
   },
   "outputs": [
    {
     "name": "stdout",
     "output_type": "stream",
     "text": [
      "Fitting 3 folds for each of 9 candidates, totalling 27 fits\n",
      "[CV] END ............DT__max_depth=2, DT__min_samples_leaf=2; total time=   0.0s\n",
      "[CV] END ............DT__max_depth=2, DT__min_samples_leaf=2; total time=   0.0s\n",
      "[CV] END ............DT__max_depth=2, DT__min_samples_leaf=2; total time=   0.0s\n",
      "[CV] END ............DT__max_depth=2, DT__min_samples_leaf=4; total time=   0.0s\n",
      "[CV] END ............DT__max_depth=2, DT__min_samples_leaf=4; total time=   0.0s\n",
      "[CV] END ............DT__max_depth=2, DT__min_samples_leaf=4; total time=   0.0s\n",
      "[CV] END ............DT__max_depth=2, DT__min_samples_leaf=6; total time=   0.0s\n",
      "[CV] END ............DT__max_depth=2, DT__min_samples_leaf=6; total time=   0.0s\n"
     ]
    },
    {
     "name": "stderr",
     "output_type": "stream",
     "text": [
      "C:\\Users\\shall\\Documents\\New folder\\Lib\\site-packages\\sklearn\\model_selection\\_split.py:700: UserWarning: The least populated class in y has only 1 members, which is less than n_splits=3.\n",
      "  warnings.warn(\n"
     ]
    },
    {
     "name": "stdout",
     "output_type": "stream",
     "text": [
      "[CV] END ............DT__max_depth=2, DT__min_samples_leaf=6; total time=   0.0s\n",
      "[CV] END ............DT__max_depth=4, DT__min_samples_leaf=2; total time=   0.0s\n",
      "[CV] END ............DT__max_depth=4, DT__min_samples_leaf=2; total time=   0.0s\n",
      "[CV] END ............DT__max_depth=4, DT__min_samples_leaf=2; total time=   0.0s\n",
      "[CV] END ............DT__max_depth=4, DT__min_samples_leaf=4; total time=   0.0s\n",
      "[CV] END ............DT__max_depth=4, DT__min_samples_leaf=4; total time=   0.0s\n",
      "[CV] END ............DT__max_depth=4, DT__min_samples_leaf=4; total time=   0.0s\n",
      "[CV] END ............DT__max_depth=4, DT__min_samples_leaf=6; total time=   0.0s\n",
      "[CV] END ............DT__max_depth=4, DT__min_samples_leaf=6; total time=   0.0s\n",
      "[CV] END ............DT__max_depth=4, DT__min_samples_leaf=6; total time=   0.0s\n",
      "[CV] END ............DT__max_depth=6, DT__min_samples_leaf=2; total time=   0.0s\n",
      "[CV] END ............DT__max_depth=6, DT__min_samples_leaf=2; total time=   0.0s\n",
      "[CV] END ............DT__max_depth=6, DT__min_samples_leaf=2; total time=   0.0s\n",
      "[CV] END ............DT__max_depth=6, DT__min_samples_leaf=4; total time=   0.0s\n",
      "[CV] END ............DT__max_depth=6, DT__min_samples_leaf=4; total time=   0.0s\n",
      "[CV] END ............DT__max_depth=6, DT__min_samples_leaf=4; total time=   0.0s\n",
      "[CV] END ............DT__max_depth=6, DT__min_samples_leaf=6; total time=   0.0s\n",
      "[CV] END ............DT__max_depth=6, DT__min_samples_leaf=6; total time=   0.0s\n",
      "[CV] END ............DT__max_depth=6, DT__min_samples_leaf=6; total time=   0.0s\n"
     ]
    },
    {
     "data": {
      "text/html": [
       "<style>#sk-container-id-4 {color: black;background-color: white;}#sk-container-id-4 pre{padding: 0;}#sk-container-id-4 div.sk-toggleable {background-color: white;}#sk-container-id-4 label.sk-toggleable__label {cursor: pointer;display: block;width: 100%;margin-bottom: 0;padding: 0.3em;box-sizing: border-box;text-align: center;}#sk-container-id-4 label.sk-toggleable__label-arrow:before {content: \"▸\";float: left;margin-right: 0.25em;color: #696969;}#sk-container-id-4 label.sk-toggleable__label-arrow:hover:before {color: black;}#sk-container-id-4 div.sk-estimator:hover label.sk-toggleable__label-arrow:before {color: black;}#sk-container-id-4 div.sk-toggleable__content {max-height: 0;max-width: 0;overflow: hidden;text-align: left;background-color: #f0f8ff;}#sk-container-id-4 div.sk-toggleable__content pre {margin: 0.2em;color: black;border-radius: 0.25em;background-color: #f0f8ff;}#sk-container-id-4 input.sk-toggleable__control:checked~div.sk-toggleable__content {max-height: 200px;max-width: 100%;overflow: auto;}#sk-container-id-4 input.sk-toggleable__control:checked~label.sk-toggleable__label-arrow:before {content: \"▾\";}#sk-container-id-4 div.sk-estimator input.sk-toggleable__control:checked~label.sk-toggleable__label {background-color: #d4ebff;}#sk-container-id-4 div.sk-label input.sk-toggleable__control:checked~label.sk-toggleable__label {background-color: #d4ebff;}#sk-container-id-4 input.sk-hidden--visually {border: 0;clip: rect(1px 1px 1px 1px);clip: rect(1px, 1px, 1px, 1px);height: 1px;margin: -1px;overflow: hidden;padding: 0;position: absolute;width: 1px;}#sk-container-id-4 div.sk-estimator {font-family: monospace;background-color: #f0f8ff;border: 1px dotted black;border-radius: 0.25em;box-sizing: border-box;margin-bottom: 0.5em;}#sk-container-id-4 div.sk-estimator:hover {background-color: #d4ebff;}#sk-container-id-4 div.sk-parallel-item::after {content: \"\";width: 100%;border-bottom: 1px solid gray;flex-grow: 1;}#sk-container-id-4 div.sk-label:hover label.sk-toggleable__label {background-color: #d4ebff;}#sk-container-id-4 div.sk-serial::before {content: \"\";position: absolute;border-left: 1px solid gray;box-sizing: border-box;top: 0;bottom: 0;left: 50%;z-index: 0;}#sk-container-id-4 div.sk-serial {display: flex;flex-direction: column;align-items: center;background-color: white;padding-right: 0.2em;padding-left: 0.2em;position: relative;}#sk-container-id-4 div.sk-item {position: relative;z-index: 1;}#sk-container-id-4 div.sk-parallel {display: flex;align-items: stretch;justify-content: center;background-color: white;position: relative;}#sk-container-id-4 div.sk-item::before, #sk-container-id-4 div.sk-parallel-item::before {content: \"\";position: absolute;border-left: 1px solid gray;box-sizing: border-box;top: 0;bottom: 0;left: 50%;z-index: -1;}#sk-container-id-4 div.sk-parallel-item {display: flex;flex-direction: column;z-index: 1;position: relative;background-color: white;}#sk-container-id-4 div.sk-parallel-item:first-child::after {align-self: flex-end;width: 50%;}#sk-container-id-4 div.sk-parallel-item:last-child::after {align-self: flex-start;width: 50%;}#sk-container-id-4 div.sk-parallel-item:only-child::after {width: 0;}#sk-container-id-4 div.sk-dashed-wrapped {border: 1px dashed gray;margin: 0 0.4em 0.5em 0.4em;box-sizing: border-box;padding-bottom: 0.4em;background-color: white;}#sk-container-id-4 div.sk-label label {font-family: monospace;font-weight: bold;display: inline-block;line-height: 1.2em;}#sk-container-id-4 div.sk-label-container {text-align: center;}#sk-container-id-4 div.sk-container {/* jupyter's `normalize.less` sets `[hidden] { display: none; }` but bootstrap.min.css set `[hidden] { display: none !important; }` so we also need the `!important` here to be able to override the default hidden behavior on the sphinx rendered scikit-learn.org. See: https://github.com/scikit-learn/scikit-learn/issues/21755 */display: inline-block !important;position: relative;}#sk-container-id-4 div.sk-text-repr-fallback {display: none;}</style><div id=\"sk-container-id-4\" class=\"sk-top-container\"><div class=\"sk-text-repr-fallback\"><pre>GridSearchCV(cv=3,\n",
       "             estimator=Pipeline(steps=[(&#x27;preprocessor&#x27;,\n",
       "                                        ColumnTransformer(transformers=[(&#x27;num&#x27;,\n",
       "                                                                         StandardScaler(),\n",
       "                                                                         &lt;function dynamic_column_selector.&lt;locals&gt;.column_selector at 0x000002441219F9C0&gt;),\n",
       "                                                                        (&#x27;cat&#x27;,\n",
       "                                                                         OneHotEncoder(handle_unknown=&#x27;ignore&#x27;),\n",
       "                                                                         &lt;function dynamic_column_selector.&lt;locals&gt;.column_selector at 0x000002441219D620&gt;),\n",
       "                                                                        (&#x27;impute&#x27;,\n",
       "                                                                         SimpleImputer(),\n",
       "                                                                         &lt;function dynamic_column_selector.&lt;locals&gt;.column_selector at 0x000002441219FCE0&gt;)])),\n",
       "                                       (&#x27;DT&#x27;,\n",
       "                                        DecisionTreeClassifier(random_state=42))]),\n",
       "             param_grid={&#x27;DT__max_depth&#x27;: [2, 4, 6],\n",
       "                         &#x27;DT__min_samples_leaf&#x27;: [2, 4, 6]},\n",
       "             scoring=&#x27;accuracy&#x27;, verbose=2)</pre><b>In a Jupyter environment, please rerun this cell to show the HTML representation or trust the notebook. <br />On GitHub, the HTML representation is unable to render, please try loading this page with nbviewer.org.</b></div><div class=\"sk-container\" hidden><div class=\"sk-item sk-dashed-wrapped\"><div class=\"sk-label-container\"><div class=\"sk-label sk-toggleable\"><input class=\"sk-toggleable__control sk-hidden--visually\" id=\"sk-estimator-id-31\" type=\"checkbox\" ><label for=\"sk-estimator-id-31\" class=\"sk-toggleable__label sk-toggleable__label-arrow\">GridSearchCV</label><div class=\"sk-toggleable__content\"><pre>GridSearchCV(cv=3,\n",
       "             estimator=Pipeline(steps=[(&#x27;preprocessor&#x27;,\n",
       "                                        ColumnTransformer(transformers=[(&#x27;num&#x27;,\n",
       "                                                                         StandardScaler(),\n",
       "                                                                         &lt;function dynamic_column_selector.&lt;locals&gt;.column_selector at 0x000002441219F9C0&gt;),\n",
       "                                                                        (&#x27;cat&#x27;,\n",
       "                                                                         OneHotEncoder(handle_unknown=&#x27;ignore&#x27;),\n",
       "                                                                         &lt;function dynamic_column_selector.&lt;locals&gt;.column_selector at 0x000002441219D620&gt;),\n",
       "                                                                        (&#x27;impute&#x27;,\n",
       "                                                                         SimpleImputer(),\n",
       "                                                                         &lt;function dynamic_column_selector.&lt;locals&gt;.column_selector at 0x000002441219FCE0&gt;)])),\n",
       "                                       (&#x27;DT&#x27;,\n",
       "                                        DecisionTreeClassifier(random_state=42))]),\n",
       "             param_grid={&#x27;DT__max_depth&#x27;: [2, 4, 6],\n",
       "                         &#x27;DT__min_samples_leaf&#x27;: [2, 4, 6]},\n",
       "             scoring=&#x27;accuracy&#x27;, verbose=2)</pre></div></div></div><div class=\"sk-parallel\"><div class=\"sk-parallel-item\"><div class=\"sk-item\"><div class=\"sk-label-container\"><div class=\"sk-label sk-toggleable\"><input class=\"sk-toggleable__control sk-hidden--visually\" id=\"sk-estimator-id-32\" type=\"checkbox\" ><label for=\"sk-estimator-id-32\" class=\"sk-toggleable__label sk-toggleable__label-arrow\">estimator: Pipeline</label><div class=\"sk-toggleable__content\"><pre>Pipeline(steps=[(&#x27;preprocessor&#x27;,\n",
       "                 ColumnTransformer(transformers=[(&#x27;num&#x27;, StandardScaler(),\n",
       "                                                  &lt;function dynamic_column_selector.&lt;locals&gt;.column_selector at 0x000002441219F9C0&gt;),\n",
       "                                                 (&#x27;cat&#x27;,\n",
       "                                                  OneHotEncoder(handle_unknown=&#x27;ignore&#x27;),\n",
       "                                                  &lt;function dynamic_column_selector.&lt;locals&gt;.column_selector at 0x000002441219D620&gt;),\n",
       "                                                 (&#x27;impute&#x27;, SimpleImputer(),\n",
       "                                                  &lt;function dynamic_column_selector.&lt;locals&gt;.column_selector at 0x000002441219FCE0&gt;)])),\n",
       "                (&#x27;DT&#x27;, DecisionTreeClassifier(random_state=42))])</pre></div></div></div><div class=\"sk-serial\"><div class=\"sk-item\"><div class=\"sk-serial\"><div class=\"sk-item sk-dashed-wrapped\"><div class=\"sk-label-container\"><div class=\"sk-label sk-toggleable\"><input class=\"sk-toggleable__control sk-hidden--visually\" id=\"sk-estimator-id-33\" type=\"checkbox\" ><label for=\"sk-estimator-id-33\" class=\"sk-toggleable__label sk-toggleable__label-arrow\">preprocessor: ColumnTransformer</label><div class=\"sk-toggleable__content\"><pre>ColumnTransformer(transformers=[(&#x27;num&#x27;, StandardScaler(),\n",
       "                                 &lt;function dynamic_column_selector.&lt;locals&gt;.column_selector at 0x000002441219F9C0&gt;),\n",
       "                                (&#x27;cat&#x27;, OneHotEncoder(handle_unknown=&#x27;ignore&#x27;),\n",
       "                                 &lt;function dynamic_column_selector.&lt;locals&gt;.column_selector at 0x000002441219D620&gt;),\n",
       "                                (&#x27;impute&#x27;, SimpleImputer(),\n",
       "                                 &lt;function dynamic_column_selector.&lt;locals&gt;.column_selector at 0x000002441219FCE0&gt;)])</pre></div></div></div><div class=\"sk-parallel\"><div class=\"sk-parallel-item\"><div class=\"sk-item\"><div class=\"sk-label-container\"><div class=\"sk-label sk-toggleable\"><input class=\"sk-toggleable__control sk-hidden--visually\" id=\"sk-estimator-id-34\" type=\"checkbox\" ><label for=\"sk-estimator-id-34\" class=\"sk-toggleable__label sk-toggleable__label-arrow\">num</label><div class=\"sk-toggleable__content\"><pre>&lt;function dynamic_column_selector.&lt;locals&gt;.column_selector at 0x000002441219F9C0&gt;</pre></div></div></div><div class=\"sk-serial\"><div class=\"sk-item\"><div class=\"sk-estimator sk-toggleable\"><input class=\"sk-toggleable__control sk-hidden--visually\" id=\"sk-estimator-id-35\" type=\"checkbox\" ><label for=\"sk-estimator-id-35\" class=\"sk-toggleable__label sk-toggleable__label-arrow\">StandardScaler</label><div class=\"sk-toggleable__content\"><pre>StandardScaler()</pre></div></div></div></div></div></div><div class=\"sk-parallel-item\"><div class=\"sk-item\"><div class=\"sk-label-container\"><div class=\"sk-label sk-toggleable\"><input class=\"sk-toggleable__control sk-hidden--visually\" id=\"sk-estimator-id-36\" type=\"checkbox\" ><label for=\"sk-estimator-id-36\" class=\"sk-toggleable__label sk-toggleable__label-arrow\">cat</label><div class=\"sk-toggleable__content\"><pre>&lt;function dynamic_column_selector.&lt;locals&gt;.column_selector at 0x000002441219D620&gt;</pre></div></div></div><div class=\"sk-serial\"><div class=\"sk-item\"><div class=\"sk-estimator sk-toggleable\"><input class=\"sk-toggleable__control sk-hidden--visually\" id=\"sk-estimator-id-37\" type=\"checkbox\" ><label for=\"sk-estimator-id-37\" class=\"sk-toggleable__label sk-toggleable__label-arrow\">OneHotEncoder</label><div class=\"sk-toggleable__content\"><pre>OneHotEncoder(handle_unknown=&#x27;ignore&#x27;)</pre></div></div></div></div></div></div><div class=\"sk-parallel-item\"><div class=\"sk-item\"><div class=\"sk-label-container\"><div class=\"sk-label sk-toggleable\"><input class=\"sk-toggleable__control sk-hidden--visually\" id=\"sk-estimator-id-38\" type=\"checkbox\" ><label for=\"sk-estimator-id-38\" class=\"sk-toggleable__label sk-toggleable__label-arrow\">impute</label><div class=\"sk-toggleable__content\"><pre>&lt;function dynamic_column_selector.&lt;locals&gt;.column_selector at 0x000002441219FCE0&gt;</pre></div></div></div><div class=\"sk-serial\"><div class=\"sk-item\"><div class=\"sk-estimator sk-toggleable\"><input class=\"sk-toggleable__control sk-hidden--visually\" id=\"sk-estimator-id-39\" type=\"checkbox\" ><label for=\"sk-estimator-id-39\" class=\"sk-toggleable__label sk-toggleable__label-arrow\">SimpleImputer</label><div class=\"sk-toggleable__content\"><pre>SimpleImputer()</pre></div></div></div></div></div></div></div></div><div class=\"sk-item\"><div class=\"sk-estimator sk-toggleable\"><input class=\"sk-toggleable__control sk-hidden--visually\" id=\"sk-estimator-id-40\" type=\"checkbox\" ><label for=\"sk-estimator-id-40\" class=\"sk-toggleable__label sk-toggleable__label-arrow\">DecisionTreeClassifier</label><div class=\"sk-toggleable__content\"><pre>DecisionTreeClassifier(random_state=42)</pre></div></div></div></div></div></div></div></div></div></div></div></div>"
      ],
      "text/plain": [
       "GridSearchCV(cv=3,\n",
       "             estimator=Pipeline(steps=[('preprocessor',\n",
       "                                        ColumnTransformer(transformers=[('num',\n",
       "                                                                         StandardScaler(),\n",
       "                                                                         <function dynamic_column_selector.<locals>.column_selector at 0x000002441219F9C0>),\n",
       "                                                                        ('cat',\n",
       "                                                                         OneHotEncoder(handle_unknown='ignore'),\n",
       "                                                                         <function dynamic_column_selector.<locals>.column_selector at 0x000002441219D620>),\n",
       "                                                                        ('impute',\n",
       "                                                                         SimpleImputer(),\n",
       "                                                                         <function dynamic_column_selector.<locals>.column_selector at 0x000002441219FCE0>)])),\n",
       "                                       ('DT',\n",
       "                                        DecisionTreeClassifier(random_state=42))]),\n",
       "             param_grid={'DT__max_depth': [2, 4, 6],\n",
       "                         'DT__min_samples_leaf': [2, 4, 6]},\n",
       "             scoring='accuracy', verbose=2)"
      ]
     },
     "execution_count": 19,
     "metadata": {},
     "output_type": "execute_result"
    }
   ],
   "source": [
    "# Implenting GridSearchCV for Decision Tree\n",
    "grid_search_dt = GridSearchCV(pipe_dt, dt_params, cv=3, scoring=\"accuracy\", verbose =2)\n",
    "grid_search_dt.fit(X_train, y_train)"
   ]
  },
  {
   "cell_type": "code",
   "execution_count": 20,
   "metadata": {
    "colab": {
     "base_uri": "https://localhost:8080/"
    },
    "id": "wT1m7F6f6Mc3",
    "outputId": "573c21d0-3d85-47a9-8be2-6ae510c50051"
   },
   "outputs": [
    {
     "name": "stdout",
     "output_type": "stream",
     "text": [
      "0.46923076923076923\n"
     ]
    }
   ],
   "source": [
    "best_grid_dt = grid_search_dt.best_estimator_\n",
    "grid_dt_accuracy = best_grid_dt.score(X_test, y_test)\n",
    "print(grid_dt_accuracy)"
   ]
  },
  {
   "cell_type": "markdown",
   "metadata": {
    "id": "9M1rrYn76lwU"
   },
   "source": [
    "###Hyperparameter tuning resulted in a decision tree accuracy improvement from 39.23% to 46.92%. Random Forest performance remained largely unchanged. These results suggest that even with optimized models, student grade prediction based solely on stats is unlikely to achieve more than 46.92% accuracy. This indicates that other factors beyond the provided data may significantly influence student grades.\n"
   ]
  },
  {
   "cell_type": "code",
   "execution_count": null,
   "metadata": {},
   "outputs": [],
   "source": []
  }
 ],
 "metadata": {
  "colab": {
   "provenance": []
  },
  "kernelspec": {
   "display_name": "Python 3 (ipykernel)",
   "language": "python",
   "name": "python3"
  },
  "language_info": {
   "codemirror_mode": {
    "name": "ipython",
    "version": 3
   },
   "file_extension": ".py",
   "mimetype": "text/x-python",
   "name": "python",
   "nbconvert_exporter": "python",
   "pygments_lexer": "ipython3",
   "version": "3.11.7"
  }
 },
 "nbformat": 4,
 "nbformat_minor": 4
}
